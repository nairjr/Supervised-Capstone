{
 "cells": [
  {
   "cell_type": "markdown",
   "metadata": {
    "colab_type": "text",
    "id": "4XpQWG1RFZa4"
   },
   "source": [
    "# Unit 3 Capstone - Supervised Learning - Analysis of Reviews and Ratings in Google App Store\n",
    "\n",
    "\n",
    "![google play store](http://idaay.org/wp-content/uploads/2018/07/kisspng-google-play-android-app-store-google-play-5ac7a0bf108fc6.0418072915230322550678.jpg)"
   ]
  },
  {
   "cell_type": "markdown",
   "metadata": {
    "colab_type": "text",
    "id": "od20DxgEFZa7"
   },
   "source": [
    "## Topic"
   ]
  },
  {
   "cell_type": "markdown",
   "metadata": {
    "colab_type": "text",
    "id": "enctFO-4FZa9"
   },
   "source": [
    "The data for the capstone has been taken from [Kaggle](https://www.kaggle.com/lava18/google-play-store-apps).\n",
    "\n",
    "The scope of this supervised machine learning capstone is to explore features related to the sucess of apps within the Google Play Store Apps.  We aim to see the relationship these features have against ratings for these apps. We will split our modeling between accurately being able to classify our data and predicting the features of the apps against their ratings.\n",
    "\n",
    "We have to deal with a lot of dirty data and need to binarize the parameters properly. \n",
    "\n",
    "[Github Repository](https://raw.githubusercontent.com/nairjr/Datasets/master/googleplaystore.csv) \n",
    "\n"
   ]
  },
  {
   "cell_type": "markdown",
   "metadata": {
    "colab_type": "text",
    "id": "SVOfkoUwFZa9"
   },
   "source": [
    "## Import Libraries"
   ]
  },
  {
   "cell_type": "code",
   "execution_count": 1,
   "metadata": {
    "colab": {},
    "colab_type": "code",
    "id": "Qv6gVXZ9FZa_"
   },
   "outputs": [],
   "source": [
    "import pandas as pd\n",
    "import numpy as np\n",
    "import matplotlib.pyplot as plt\n",
    "import seaborn as sns\n",
    "%matplotlib inline"
   ]
  },
  {
   "cell_type": "markdown",
   "metadata": {
    "colab_type": "text",
    "id": "DWuamuN3FZbD"
   },
   "source": [
    "## Loading Data"
   ]
  },
  {
   "cell_type": "code",
   "execution_count": 2,
   "metadata": {
    "colab": {
     "base_uri": "https://localhost:8080/",
     "height": 423
    },
    "colab_type": "code",
    "id": "3-yl4f8EFZbE",
    "outputId": "0e0cd17a-2091-4d7e-ab12-642ff123988b"
   },
   "outputs": [
    {
     "data": {
      "text/html": [
       "<div>\n",
       "<style scoped>\n",
       "    .dataframe tbody tr th:only-of-type {\n",
       "        vertical-align: middle;\n",
       "    }\n",
       "\n",
       "    .dataframe tbody tr th {\n",
       "        vertical-align: top;\n",
       "    }\n",
       "\n",
       "    .dataframe thead th {\n",
       "        text-align: right;\n",
       "    }\n",
       "</style>\n",
       "<table border=\"1\" class=\"dataframe\">\n",
       "  <thead>\n",
       "    <tr style=\"text-align: right;\">\n",
       "      <th></th>\n",
       "      <th>App</th>\n",
       "      <th>Category</th>\n",
       "      <th>Rating</th>\n",
       "      <th>Reviews</th>\n",
       "      <th>Size</th>\n",
       "      <th>Installs</th>\n",
       "      <th>Type</th>\n",
       "      <th>Price</th>\n",
       "      <th>Content Rating</th>\n",
       "      <th>Genres</th>\n",
       "      <th>Last Updated</th>\n",
       "      <th>Current Ver</th>\n",
       "      <th>Android Ver</th>\n",
       "    </tr>\n",
       "  </thead>\n",
       "  <tbody>\n",
       "    <tr>\n",
       "      <th>0</th>\n",
       "      <td>Photo Editor &amp; Candy Camera &amp; Grid &amp; ScrapBook</td>\n",
       "      <td>ART_AND_DESIGN</td>\n",
       "      <td>4.1</td>\n",
       "      <td>159</td>\n",
       "      <td>19M</td>\n",
       "      <td>10,000+</td>\n",
       "      <td>Free</td>\n",
       "      <td>0</td>\n",
       "      <td>Everyone</td>\n",
       "      <td>Art &amp; Design</td>\n",
       "      <td>January 7, 2018</td>\n",
       "      <td>1.0.0</td>\n",
       "      <td>4.0.3 and up</td>\n",
       "    </tr>\n",
       "    <tr>\n",
       "      <th>1</th>\n",
       "      <td>Coloring book moana</td>\n",
       "      <td>ART_AND_DESIGN</td>\n",
       "      <td>3.9</td>\n",
       "      <td>967</td>\n",
       "      <td>14M</td>\n",
       "      <td>500,000+</td>\n",
       "      <td>Free</td>\n",
       "      <td>0</td>\n",
       "      <td>Everyone</td>\n",
       "      <td>Art &amp; Design;Pretend Play</td>\n",
       "      <td>January 15, 2018</td>\n",
       "      <td>2.0.0</td>\n",
       "      <td>4.0.3 and up</td>\n",
       "    </tr>\n",
       "    <tr>\n",
       "      <th>2</th>\n",
       "      <td>U Launcher Lite – FREE Live Cool Themes, Hide ...</td>\n",
       "      <td>ART_AND_DESIGN</td>\n",
       "      <td>4.7</td>\n",
       "      <td>87510</td>\n",
       "      <td>8.7M</td>\n",
       "      <td>5,000,000+</td>\n",
       "      <td>Free</td>\n",
       "      <td>0</td>\n",
       "      <td>Everyone</td>\n",
       "      <td>Art &amp; Design</td>\n",
       "      <td>August 1, 2018</td>\n",
       "      <td>1.2.4</td>\n",
       "      <td>4.0.3 and up</td>\n",
       "    </tr>\n",
       "    <tr>\n",
       "      <th>3</th>\n",
       "      <td>Sketch - Draw &amp; Paint</td>\n",
       "      <td>ART_AND_DESIGN</td>\n",
       "      <td>4.5</td>\n",
       "      <td>215644</td>\n",
       "      <td>25M</td>\n",
       "      <td>50,000,000+</td>\n",
       "      <td>Free</td>\n",
       "      <td>0</td>\n",
       "      <td>Teen</td>\n",
       "      <td>Art &amp; Design</td>\n",
       "      <td>June 8, 2018</td>\n",
       "      <td>Varies with device</td>\n",
       "      <td>4.2 and up</td>\n",
       "    </tr>\n",
       "    <tr>\n",
       "      <th>4</th>\n",
       "      <td>Pixel Draw - Number Art Coloring Book</td>\n",
       "      <td>ART_AND_DESIGN</td>\n",
       "      <td>4.3</td>\n",
       "      <td>967</td>\n",
       "      <td>2.8M</td>\n",
       "      <td>100,000+</td>\n",
       "      <td>Free</td>\n",
       "      <td>0</td>\n",
       "      <td>Everyone</td>\n",
       "      <td>Art &amp; Design;Creativity</td>\n",
       "      <td>June 20, 2018</td>\n",
       "      <td>1.1</td>\n",
       "      <td>4.4 and up</td>\n",
       "    </tr>\n",
       "  </tbody>\n",
       "</table>\n",
       "</div>"
      ],
      "text/plain": [
       "                                                 App        Category  Rating  \\\n",
       "0     Photo Editor & Candy Camera & Grid & ScrapBook  ART_AND_DESIGN     4.1   \n",
       "1                                Coloring book moana  ART_AND_DESIGN     3.9   \n",
       "2  U Launcher Lite – FREE Live Cool Themes, Hide ...  ART_AND_DESIGN     4.7   \n",
       "3                              Sketch - Draw & Paint  ART_AND_DESIGN     4.5   \n",
       "4              Pixel Draw - Number Art Coloring Book  ART_AND_DESIGN     4.3   \n",
       "\n",
       "  Reviews  Size     Installs  Type Price Content Rating  \\\n",
       "0     159   19M      10,000+  Free     0       Everyone   \n",
       "1     967   14M     500,000+  Free     0       Everyone   \n",
       "2   87510  8.7M   5,000,000+  Free     0       Everyone   \n",
       "3  215644   25M  50,000,000+  Free     0           Teen   \n",
       "4     967  2.8M     100,000+  Free     0       Everyone   \n",
       "\n",
       "                      Genres      Last Updated         Current Ver  \\\n",
       "0               Art & Design   January 7, 2018               1.0.0   \n",
       "1  Art & Design;Pretend Play  January 15, 2018               2.0.0   \n",
       "2               Art & Design    August 1, 2018               1.2.4   \n",
       "3               Art & Design      June 8, 2018  Varies with device   \n",
       "4    Art & Design;Creativity     June 20, 2018                 1.1   \n",
       "\n",
       "    Android Ver  \n",
       "0  4.0.3 and up  \n",
       "1  4.0.3 and up  \n",
       "2  4.0.3 and up  \n",
       "3    4.2 and up  \n",
       "4    4.4 and up  "
      ]
     },
     "execution_count": 2,
     "metadata": {},
     "output_type": "execute_result"
    }
   ],
   "source": [
    "google = pd.read_csv('https://raw.githubusercontent.com/andandandand/CSV-datasets/master/googleplaystore.csv')\n",
    "google.head()"
   ]
  },
  {
   "cell_type": "markdown",
   "metadata": {
    "colab_type": "text",
    "id": "wpbaGsAGFZbI"
   },
   "source": [
    "## Data Cleaning"
   ]
  },
  {
   "cell_type": "code",
   "execution_count": 3,
   "metadata": {
    "colab": {
     "base_uri": "https://localhost:8080/"
    },
    "colab_type": "code",
    "id": "Jdjox-tyFZbK",
    "outputId": "5216d465-7586-4c98-a0e3-794e9373056a"
   },
   "outputs": [
    {
     "name": "stdout",
     "output_type": "stream",
     "text": [
      "<class 'pandas.core.frame.DataFrame'>\n",
      "RangeIndex: 10841 entries, 0 to 10840\n",
      "Data columns (total 13 columns):\n",
      "App               10841 non-null object\n",
      "Category          10841 non-null object\n",
      "Rating            9367 non-null float64\n",
      "Reviews           10841 non-null object\n",
      "Size              10841 non-null object\n",
      "Installs          10841 non-null object\n",
      "Type              10840 non-null object\n",
      "Price             10841 non-null object\n",
      "Content Rating    10840 non-null object\n",
      "Genres            10841 non-null object\n",
      "Last Updated      10841 non-null object\n",
      "Current Ver       10833 non-null object\n",
      "Android Ver       10838 non-null object\n",
      "dtypes: float64(1), object(12)\n",
      "memory usage: 1.1+ MB\n"
     ]
    }
   ],
   "source": [
    "google.info()"
   ]
  },
  {
   "cell_type": "markdown",
   "metadata": {
    "colab_type": "text",
    "id": "-gj8Vf3FFZbO"
   },
   "source": [
    "We notice that most of the variables in this dataset are objects. Let's change these to floats for our machine learning purposes.\n",
    "We can eliminate the variables that are not important to this report."
   ]
  },
  {
   "cell_type": "code",
   "execution_count": 4,
   "metadata": {
    "colab": {},
    "colab_type": "code",
    "id": "sY-4XOyxFZbP"
   },
   "outputs": [],
   "source": [
    "google.drop(['App','Genres',\n",
    "             'Last Updated',\n",
    "             'Current Ver','Android Ver'], \n",
    "              axis=1, inplace=True)"
   ]
  },
  {
   "cell_type": "markdown",
   "metadata": {
    "colab_type": "text",
    "id": "GvIELmCsFZbR"
   },
   "source": [
    "Change column names for simplicity."
   ]
  },
  {
   "cell_type": "code",
   "execution_count": 5,
   "metadata": {
    "colab": {},
    "colab_type": "code",
    "id": "P15RJxvWFZbS"
   },
   "outputs": [],
   "source": [
    "google = google.rename(index= str, columns={\"Content Rating\":\"content_rating\"})"
   ]
  },
  {
   "cell_type": "markdown",
   "metadata": {
    "colab_type": "text",
    "id": "QGl0D0o6FZbX"
   },
   "source": [
    "### Ratings"
   ]
  },
  {
   "cell_type": "code",
   "execution_count": 6,
   "metadata": {
    "colab": {
     "base_uri": "https://localhost:8080/"
    },
    "colab_type": "code",
    "id": "f9pb0DAmFZbX",
    "outputId": "c4533180-dff4-49a7-aa3c-e3cf66108280"
   },
   "outputs": [
    {
     "data": {
      "text/plain": [
       "array([ 4.1,  3.9,  4.7,  4.5,  4.3,  4.4,  3.8,  4.2,  4.6,  3.2,  4. ,\n",
       "        nan,  4.8,  4.9,  3.6,  3.7,  3.3,  3.4,  3.5,  3.1,  5. ,  2.6,\n",
       "        3. ,  1.9,  2.5,  2.8,  2.7,  1. ,  2.9,  2.3,  2.2,  1.7,  2. ,\n",
       "        1.8,  2.4,  1.6,  2.1,  1.4,  1.5,  1.2, 19. ])"
      ]
     },
     "execution_count": 6,
     "metadata": {},
     "output_type": "execute_result"
    }
   ],
   "source": [
    "google.Rating.unique()"
   ]
  },
  {
   "cell_type": "code",
   "execution_count": 7,
   "metadata": {
    "colab": {
     "base_uri": "https://localhost:8080/"
    },
    "colab_type": "code",
    "id": "dot1A42IJmQ2",
    "outputId": "f59450c4-b6f1-4039-d376-e7ac44a6c729"
   },
   "outputs": [
    {
     "data": {
      "text/plain": [
       "4.4"
      ]
     },
     "execution_count": 7,
     "metadata": {},
     "output_type": "execute_result"
    }
   ],
   "source": [
    "import statistics\n",
    "\n",
    "statistics.median(google['Rating'])\n",
    "\n",
    "statistics.mode(google['Rating'])\n",
    "\n"
   ]
  },
  {
   "cell_type": "code",
   "execution_count": 8,
   "metadata": {
    "colab": {},
    "colab_type": "code",
    "id": "uV8j81lBFZbc"
   },
   "outputs": [],
   "source": [
    "google.Rating.dropna(inplace = True)"
   ]
  },
  {
   "cell_type": "markdown",
   "metadata": {
    "colab_type": "text",
    "id": "Kojkn4mbFZbf"
   },
   "source": [
    "### Reviews"
   ]
  },
  {
   "cell_type": "code",
   "execution_count": 9,
   "metadata": {
    "colab": {
     "base_uri": "https://localhost:8080/"
    },
    "colab_type": "code",
    "id": "TNaKotUzFZbg",
    "outputId": "e2c01eb1-d1d9-434c-fba6-6a5340569453"
   },
   "outputs": [
    {
     "data": {
      "text/plain": [
       "array(['159', '967', '87510', ..., '603', '1195', '398307'], dtype=object)"
      ]
     },
     "execution_count": 9,
     "metadata": {},
     "output_type": "execute_result"
    }
   ],
   "source": [
    "google.Reviews.unique()"
   ]
  },
  {
   "cell_type": "code",
   "execution_count": 10,
   "metadata": {
    "colab": {},
    "colab_type": "code",
    "id": "P7FnbOaYFZbj"
   },
   "outputs": [],
   "source": [
    "google.replace('3.0M', 3000000, inplace=True)"
   ]
  },
  {
   "cell_type": "code",
   "execution_count": 11,
   "metadata": {
    "colab": {},
    "colab_type": "code",
    "id": "wJ1sQnI2FZbm"
   },
   "outputs": [],
   "source": [
    "google['Reviews'] = google['Reviews'].str.strip(\"-\")"
   ]
  },
  {
   "cell_type": "code",
   "execution_count": 12,
   "metadata": {
    "colab": {},
    "colab_type": "code",
    "id": "XRQCX0I5FZbq"
   },
   "outputs": [],
   "source": [
    "google.Reviews = pd.to_numeric(google['Reviews'], errors='coerce')"
   ]
  },
  {
   "cell_type": "code",
   "execution_count": 13,
   "metadata": {
    "colab": {
     "base_uri": "https://localhost:8080/"
    },
    "colab_type": "code",
    "id": "G1RIvveMMYDI",
    "outputId": "cb1dab67-826c-4f0f-d5f3-e9770b9dcea6"
   },
   "outputs": [
    {
     "data": {
      "text/plain": [
       "382.0"
      ]
     },
     "execution_count": 13,
     "metadata": {},
     "output_type": "execute_result"
    }
   ],
   "source": [
    "import statistics\n",
    "statistics.median(google['Reviews'])"
   ]
  },
  {
   "cell_type": "code",
   "execution_count": 14,
   "metadata": {
    "colab": {
     "base_uri": "https://localhost:8080/"
    },
    "colab_type": "code",
    "id": "B7KA_Rt0L6Ho",
    "outputId": "17bdb9a0-f5f6-4ff0-c449-cc2ecd9e5d08"
   },
   "outputs": [
    {
     "data": {
      "text/plain": [
       "<bound method Series.count of 0           159.0\n",
       "1           967.0\n",
       "2         87510.0\n",
       "3        215644.0\n",
       "4           967.0\n",
       "5           167.0\n",
       "6           178.0\n",
       "7         36815.0\n",
       "8         13791.0\n",
       "9           121.0\n",
       "10        13880.0\n",
       "11         8788.0\n",
       "12        44829.0\n",
       "13         4326.0\n",
       "14         1518.0\n",
       "15           55.0\n",
       "16         3632.0\n",
       "17           27.0\n",
       "18       194216.0\n",
       "19       224399.0\n",
       "20          450.0\n",
       "21          654.0\n",
       "22         7699.0\n",
       "23           61.0\n",
       "24          118.0\n",
       "25          192.0\n",
       "26        20260.0\n",
       "27          203.0\n",
       "28          136.0\n",
       "29          223.0\n",
       "           ...   \n",
       "10811         4.0\n",
       "10812        80.0\n",
       "10813        20.0\n",
       "10814       785.0\n",
       "10815      5775.0\n",
       "10816         2.0\n",
       "10817       885.0\n",
       "10818        96.0\n",
       "10819        52.0\n",
       "10820        22.0\n",
       "10821         6.0\n",
       "10822         0.0\n",
       "10823         1.0\n",
       "10824        67.0\n",
       "10825         7.0\n",
       "10826     88486.0\n",
       "10827       117.0\n",
       "10828       291.0\n",
       "10829       603.0\n",
       "10830       881.0\n",
       "10831        38.0\n",
       "10832      1195.0\n",
       "10833        44.0\n",
       "10834         7.0\n",
       "10835         0.0\n",
       "10836        38.0\n",
       "10837         4.0\n",
       "10838         3.0\n",
       "10839       114.0\n",
       "10840    398307.0\n",
       "Name: Reviews, Length: 10841, dtype: float64>"
      ]
     },
     "execution_count": 14,
     "metadata": {},
     "output_type": "execute_result"
    }
   ],
   "source": [
    "google.Reviews.count"
   ]
  },
  {
   "cell_type": "markdown",
   "metadata": {
    "colab_type": "text",
    "id": "FpNrV5Y6FZbs"
   },
   "source": [
    "### Price"
   ]
  },
  {
   "cell_type": "markdown",
   "metadata": {
    "colab_type": "text",
    "id": "6nCRm6E65ZOM"
   },
   "source": [
    "We need to get rid of the dollar sign and dirty data to convert the string to a float."
   ]
  },
  {
   "cell_type": "code",
   "execution_count": 15,
   "metadata": {
    "colab": {
     "base_uri": "https://localhost:8080/"
    },
    "colab_type": "code",
    "id": "pECEtuJfFZbt",
    "outputId": "0f93606f-9bc1-4984-f246-af0530953772"
   },
   "outputs": [
    {
     "data": {
      "text/plain": [
       "array(['0', '$4.99', '$3.99', '$6.99', '$1.49', '$2.99', '$7.99', '$5.99',\n",
       "       '$3.49', '$1.99', '$9.99', '$7.49', '$0.99', '$9.00', '$5.49',\n",
       "       '$10.00', '$24.99', '$11.99', '$79.99', '$16.99', '$14.99',\n",
       "       '$1.00', '$29.99', '$12.99', '$2.49', '$10.99', '$1.50', '$19.99',\n",
       "       '$15.99', '$33.99', '$74.99', '$39.99', '$3.95', '$4.49', '$1.70',\n",
       "       '$8.99', '$2.00', '$3.88', '$25.99', '$399.99', '$17.99',\n",
       "       '$400.00', '$3.02', '$1.76', '$4.84', '$4.77', '$1.61', '$2.50',\n",
       "       '$1.59', '$6.49', '$1.29', '$5.00', '$13.99', '$299.99', '$379.99',\n",
       "       '$37.99', '$18.99', '$389.99', '$19.90', '$8.49', '$1.75',\n",
       "       '$14.00', '$4.85', '$46.99', '$109.99', '$154.99', '$3.08',\n",
       "       '$2.59', '$4.80', '$1.96', '$19.40', '$3.90', '$4.59', '$15.46',\n",
       "       '$3.04', '$4.29', '$2.60', '$3.28', '$4.60', '$28.99', '$2.95',\n",
       "       '$2.90', '$1.97', '$200.00', '$89.99', '$2.56', '$30.99', '$3.61',\n",
       "       '$394.99', '$1.26', 'Everyone', '$1.20', '$1.04'], dtype=object)"
      ]
     },
     "execution_count": 15,
     "metadata": {},
     "output_type": "execute_result"
    }
   ],
   "source": [
    "google.Price.unique()"
   ]
  },
  {
   "cell_type": "code",
   "execution_count": 16,
   "metadata": {
    "colab": {
     "base_uri": "https://localhost:8080/"
    },
    "colab_type": "code",
    "id": "nOsriW7mFZbv",
    "outputId": "4c98f92f-e7fc-4879-e8a1-714d1bcd41c0"
   },
   "outputs": [
    {
     "data": {
      "text/plain": [
       "array(['0', '4.99', '3.99', '6.99', '1.49', '2.99', '7.99', '5.99',\n",
       "       '3.49', '1.99', '9.99', '7.49', '0.99', '9.00', '5.49', '10.00',\n",
       "       '24.99', '11.99', '79.99', '16.99', '14.99', '1.00', '29.99',\n",
       "       '12.99', '2.49', '10.99', '1.50', '19.99', '15.99', '33.99',\n",
       "       '74.99', '39.99', '3.95', '4.49', '1.70', '8.99', '2.00', '3.88',\n",
       "       '25.99', '399.99', '17.99', '400.00', '3.02', '1.76', '4.84',\n",
       "       '4.77', '1.61', '2.50', '1.59', '6.49', '1.29', '5.00', '13.99',\n",
       "       '299.99', '379.99', '37.99', '18.99', '389.99', '19.90', '8.49',\n",
       "       '1.75', '14.00', '4.85', '46.99', '109.99', '154.99', '3.08',\n",
       "       '2.59', '4.80', '1.96', '19.40', '3.90', '4.59', '15.46', '3.04',\n",
       "       '4.29', '2.60', '3.28', '4.60', '28.99', '2.95', '2.90', '1.97',\n",
       "       '200.00', '89.99', '2.56', '30.99', '3.61', '394.99', '1.26',\n",
       "       'Everyone', '1.20', '1.04'], dtype=object)"
      ]
     },
     "execution_count": 16,
     "metadata": {},
     "output_type": "execute_result"
    }
   ],
   "source": [
    "google.Price = google.Price.str.strip('$ ')\n",
    "google.Price.unique()"
   ]
  },
  {
   "cell_type": "code",
   "execution_count": 17,
   "metadata": {
    "colab": {},
    "colab_type": "code",
    "id": "GAwl84tRFZbz"
   },
   "outputs": [],
   "source": [
    "google.Price = pd.to_numeric(google['Price'], errors='coerce')"
   ]
  },
  {
   "cell_type": "code",
   "execution_count": 18,
   "metadata": {
    "colab": {},
    "colab_type": "code",
    "id": "OHmxJ-AxFZb3"
   },
   "outputs": [],
   "source": [
    "google.Price.dropna(inplace = True)"
   ]
  },
  {
   "cell_type": "markdown",
   "metadata": {
    "colab_type": "text",
    "id": "imrfVCpLFZb5"
   },
   "source": [
    "### Category"
   ]
  },
  {
   "cell_type": "markdown",
   "metadata": {
    "colab_type": "text",
    "id": "PFoziFT_5ZOq"
   },
   "source": [
    "We will be using the categories aas a parameter to compare the correlation between other variables. Let's use the labelEncoder package from sklearn to convert these to numeric classifications."
   ]
  },
  {
   "cell_type": "code",
   "execution_count": 19,
   "metadata": {
    "colab": {
     "base_uri": "https://localhost:8080/"
    },
    "colab_type": "code",
    "id": "kA_LpIhVFZb6",
    "outputId": "eb277a1d-28c2-4447-b2a9-edca6e10f71a"
   },
   "outputs": [
    {
     "data": {
      "text/plain": [
       "array(['ART_AND_DESIGN', 'AUTO_AND_VEHICLES', 'BEAUTY',\n",
       "       'BOOKS_AND_REFERENCE', 'BUSINESS', 'COMICS', 'COMMUNICATION',\n",
       "       'DATING', 'EDUCATION', 'ENTERTAINMENT', 'EVENTS', 'FINANCE',\n",
       "       'FOOD_AND_DRINK', 'HEALTH_AND_FITNESS', 'HOUSE_AND_HOME',\n",
       "       'LIBRARIES_AND_DEMO', 'LIFESTYLE', 'GAME', 'FAMILY', 'MEDICAL',\n",
       "       'SOCIAL', 'SHOPPING', 'PHOTOGRAPHY', 'SPORTS', 'TRAVEL_AND_LOCAL',\n",
       "       'TOOLS', 'PERSONALIZATION', 'PRODUCTIVITY', 'PARENTING', 'WEATHER',\n",
       "       'VIDEO_PLAYERS', 'NEWS_AND_MAGAZINES', 'MAPS_AND_NAVIGATION',\n",
       "       '1.9'], dtype=object)"
      ]
     },
     "execution_count": 19,
     "metadata": {},
     "output_type": "execute_result"
    }
   ],
   "source": [
    "google.Category.unique()"
   ]
  },
  {
   "cell_type": "code",
   "execution_count": 20,
   "metadata": {
    "colab": {},
    "colab_type": "code",
    "id": "uLM1sJX-FZb-"
   },
   "outputs": [],
   "source": [
    "#Fix misplaced value\n",
    "google = google.replace(to_replace = '1.9', value = 'ART_AND_DESIGN')\n",
    "#inplace?\n",
    "google = google.replace(19, 1.9)"
   ]
  },
  {
   "cell_type": "code",
   "execution_count": 21,
   "metadata": {
    "colab": {},
    "colab_type": "code",
    "id": "KGs_lq0oFZcB"
   },
   "outputs": [],
   "source": [
    "from sklearn.preprocessing import LabelEncoder\n",
    "\n",
    "LE = LabelEncoder()\n",
    "google['category_code'] = LE.fit_transform(google['Category'])\n"
   ]
  },
  {
   "cell_type": "code",
   "execution_count": 22,
   "metadata": {
    "colab": {
     "base_uri": "https://localhost:8080/"
    },
    "colab_type": "code",
    "id": "fM4gnE9eFZcC",
    "outputId": "51071ea8-c0b8-47fe-99f7-82dfa2d8b4ba"
   },
   "outputs": [
    {
     "data": {
      "text/plain": [
       "array([ 0,  1,  2,  3,  4,  5,  6,  7,  8,  9, 10, 12, 13, 15, 16, 17, 18,\n",
       "       14, 11, 20, 27, 26, 24, 28, 30, 29, 23, 25, 22, 32, 31, 21, 19],\n",
       "      dtype=int64)"
      ]
     },
     "execution_count": 22,
     "metadata": {},
     "output_type": "execute_result"
    }
   ],
   "source": [
    "google['category_code'].unique()"
   ]
  },
  {
   "cell_type": "code",
   "execution_count": 23,
   "metadata": {
    "colab": {},
    "colab_type": "code",
    "id": "faXHJmJrFZcF"
   },
   "outputs": [],
   "source": [
    "google.drop(['Category'], axis=1, inplace= True)"
   ]
  },
  {
   "cell_type": "markdown",
   "metadata": {
    "colab_type": "text",
    "id": "qPiVRBbLFZcI"
   },
   "source": [
    "### Installs"
   ]
  },
  {
   "cell_type": "code",
   "execution_count": 24,
   "metadata": {
    "colab": {
     "base_uri": "https://localhost:8080/"
    },
    "colab_type": "code",
    "id": "QO21RmZ3FZcI",
    "outputId": "d94db318-70c9-42a7-f9f3-090a9f124360"
   },
   "outputs": [
    {
     "data": {
      "text/plain": [
       "array(['10,000+', '500,000+', '5,000,000+', '50,000,000+', '100,000+',\n",
       "       '50,000+', '1,000,000+', '10,000,000+', '5,000+', '100,000,000+',\n",
       "       '1,000,000,000+', '1,000+', '500,000,000+', '50+', '100+', '500+',\n",
       "       '10+', '1+', '5+', '0+', '0', 'Free'], dtype=object)"
      ]
     },
     "execution_count": 24,
     "metadata": {},
     "output_type": "execute_result"
    }
   ],
   "source": [
    "google.Installs.unique()"
   ]
  },
  {
   "cell_type": "code",
   "execution_count": 25,
   "metadata": {
    "colab": {},
    "colab_type": "code",
    "id": "rI5bkn3RFZcN"
   },
   "outputs": [],
   "source": [
    "google.Installs = google.Installs.str.strip('+')\n",
    "google.Installs = google.Installs.str.replace(',','')\n",
    "google.Installs = pd.to_numeric(google['Installs'], errors='coerce')"
   ]
  },
  {
   "cell_type": "code",
   "execution_count": 26,
   "metadata": {
    "colab": {},
    "colab_type": "code",
    "id": "ZXMtsw9WFZcP"
   },
   "outputs": [],
   "source": [
    "google.Installs.dropna(inplace=True)"
   ]
  },
  {
   "cell_type": "code",
   "execution_count": 27,
   "metadata": {
    "colab": {
     "base_uri": "https://localhost:8080/"
    },
    "colab_type": "code",
    "id": "P8irI46pFZcR",
    "outputId": "79d098c6-9e45-409c-ee89-0966e4abe304"
   },
   "outputs": [
    {
     "data": {
      "text/html": [
       "<div>\n",
       "<style scoped>\n",
       "    .dataframe tbody tr th:only-of-type {\n",
       "        vertical-align: middle;\n",
       "    }\n",
       "\n",
       "    .dataframe tbody tr th {\n",
       "        vertical-align: top;\n",
       "    }\n",
       "\n",
       "    .dataframe thead th {\n",
       "        text-align: right;\n",
       "    }\n",
       "</style>\n",
       "<table border=\"1\" class=\"dataframe\">\n",
       "  <thead>\n",
       "    <tr style=\"text-align: right;\">\n",
       "      <th></th>\n",
       "      <th>Rating</th>\n",
       "      <th>Reviews</th>\n",
       "      <th>Installs</th>\n",
       "      <th>Price</th>\n",
       "      <th>category_code</th>\n",
       "    </tr>\n",
       "  </thead>\n",
       "  <tbody>\n",
       "    <tr>\n",
       "      <th>count</th>\n",
       "      <td>9367.000000</td>\n",
       "      <td>1.084000e+04</td>\n",
       "      <td>1.084000e+04</td>\n",
       "      <td>10840.000000</td>\n",
       "      <td>10841.000000</td>\n",
       "    </tr>\n",
       "    <tr>\n",
       "      <th>mean</th>\n",
       "      <td>4.191513</td>\n",
       "      <td>4.441528e+05</td>\n",
       "      <td>1.546434e+07</td>\n",
       "      <td>1.027368</td>\n",
       "      <td>16.723826</td>\n",
       "    </tr>\n",
       "    <tr>\n",
       "      <th>std</th>\n",
       "      <td>0.515735</td>\n",
       "      <td>2.927761e+06</td>\n",
       "      <td>8.502936e+07</td>\n",
       "      <td>15.949703</td>\n",
       "      <td>8.354469</td>\n",
       "    </tr>\n",
       "    <tr>\n",
       "      <th>min</th>\n",
       "      <td>1.000000</td>\n",
       "      <td>0.000000e+00</td>\n",
       "      <td>0.000000e+00</td>\n",
       "      <td>0.000000</td>\n",
       "      <td>0.000000</td>\n",
       "    </tr>\n",
       "    <tr>\n",
       "      <th>25%</th>\n",
       "      <td>4.000000</td>\n",
       "      <td>3.800000e+01</td>\n",
       "      <td>1.000000e+03</td>\n",
       "      <td>0.000000</td>\n",
       "      <td>11.000000</td>\n",
       "    </tr>\n",
       "    <tr>\n",
       "      <th>50%</th>\n",
       "      <td>4.300000</td>\n",
       "      <td>2.094000e+03</td>\n",
       "      <td>1.000000e+05</td>\n",
       "      <td>0.000000</td>\n",
       "      <td>14.000000</td>\n",
       "    </tr>\n",
       "    <tr>\n",
       "      <th>75%</th>\n",
       "      <td>4.500000</td>\n",
       "      <td>5.477550e+04</td>\n",
       "      <td>5.000000e+06</td>\n",
       "      <td>0.000000</td>\n",
       "      <td>25.000000</td>\n",
       "    </tr>\n",
       "    <tr>\n",
       "      <th>max</th>\n",
       "      <td>5.000000</td>\n",
       "      <td>7.815831e+07</td>\n",
       "      <td>1.000000e+09</td>\n",
       "      <td>400.000000</td>\n",
       "      <td>32.000000</td>\n",
       "    </tr>\n",
       "  </tbody>\n",
       "</table>\n",
       "</div>"
      ],
      "text/plain": [
       "            Rating       Reviews      Installs         Price  category_code\n",
       "count  9367.000000  1.084000e+04  1.084000e+04  10840.000000   10841.000000\n",
       "mean      4.191513  4.441528e+05  1.546434e+07      1.027368      16.723826\n",
       "std       0.515735  2.927761e+06  8.502936e+07     15.949703       8.354469\n",
       "min       1.000000  0.000000e+00  0.000000e+00      0.000000       0.000000\n",
       "25%       4.000000  3.800000e+01  1.000000e+03      0.000000      11.000000\n",
       "50%       4.300000  2.094000e+03  1.000000e+05      0.000000      14.000000\n",
       "75%       4.500000  5.477550e+04  5.000000e+06      0.000000      25.000000\n",
       "max       5.000000  7.815831e+07  1.000000e+09    400.000000      32.000000"
      ]
     },
     "execution_count": 27,
     "metadata": {},
     "output_type": "execute_result"
    }
   ],
   "source": [
    "google.describe()"
   ]
  },
  {
   "cell_type": "markdown",
   "metadata": {
    "colab_type": "text",
    "id": "TJ20Q697FZcT"
   },
   "source": [
    "### Content Ratings"
   ]
  },
  {
   "cell_type": "code",
   "execution_count": 28,
   "metadata": {
    "colab": {
     "base_uri": "https://localhost:8080/"
    },
    "colab_type": "code",
    "id": "CwGpYb6fFZcU",
    "outputId": "864ca582-6d8a-418a-be5f-ec7c826134fc"
   },
   "outputs": [
    {
     "data": {
      "text/plain": [
       "array(['Everyone', 'Teen', 'Everyone 10+', 'Mature 17+',\n",
       "       'Adults only 18+', 'Unrated', nan], dtype=object)"
      ]
     },
     "execution_count": 28,
     "metadata": {},
     "output_type": "execute_result"
    }
   ],
   "source": [
    "google.content_rating.unique()"
   ]
  },
  {
   "cell_type": "code",
   "execution_count": 29,
   "metadata": {
    "colab": {},
    "colab_type": "code",
    "id": "OMexLF6UFZcZ"
   },
   "outputs": [],
   "source": [
    "# Changing variables to integers\n",
    "content_rating_code = {\"content_rating\": {\"Everyone\":0, \"Teen\":1, \"Everyone 10+\":2, \"Mature 17+\":3, \"Adults only 18+\":4, \"Unrated\":5, \"nan\":\"\" }}"
   ]
  },
  {
   "cell_type": "code",
   "execution_count": 30,
   "metadata": {
    "colab": {},
    "colab_type": "code",
    "id": "cGejSEScFZcc"
   },
   "outputs": [],
   "source": [
    "google.replace(content_rating_code, inplace= True)"
   ]
  },
  {
   "cell_type": "code",
   "execution_count": 31,
   "metadata": {
    "colab": {
     "base_uri": "https://localhost:8080/"
    },
    "colab_type": "code",
    "id": "IauyCU9rFZcd",
    "outputId": "7e5e18e4-10b7-4382-d1ed-946bc2aec2bd"
   },
   "outputs": [
    {
     "data": {
      "text/html": [
       "<div>\n",
       "<style scoped>\n",
       "    .dataframe tbody tr th:only-of-type {\n",
       "        vertical-align: middle;\n",
       "    }\n",
       "\n",
       "    .dataframe tbody tr th {\n",
       "        vertical-align: top;\n",
       "    }\n",
       "\n",
       "    .dataframe thead th {\n",
       "        text-align: right;\n",
       "    }\n",
       "</style>\n",
       "<table border=\"1\" class=\"dataframe\">\n",
       "  <thead>\n",
       "    <tr style=\"text-align: right;\">\n",
       "      <th></th>\n",
       "      <th>Rating</th>\n",
       "      <th>Reviews</th>\n",
       "      <th>Size</th>\n",
       "      <th>Installs</th>\n",
       "      <th>Type</th>\n",
       "      <th>Price</th>\n",
       "      <th>content_rating</th>\n",
       "      <th>category_code</th>\n",
       "    </tr>\n",
       "  </thead>\n",
       "  <tbody>\n",
       "    <tr>\n",
       "      <th>10836</th>\n",
       "      <td>4.5</td>\n",
       "      <td>38.0</td>\n",
       "      <td>53M</td>\n",
       "      <td>5000.0</td>\n",
       "      <td>Free</td>\n",
       "      <td>0.0</td>\n",
       "      <td>0.0</td>\n",
       "      <td>11</td>\n",
       "    </tr>\n",
       "    <tr>\n",
       "      <th>10837</th>\n",
       "      <td>5.0</td>\n",
       "      <td>4.0</td>\n",
       "      <td>3.6M</td>\n",
       "      <td>100.0</td>\n",
       "      <td>Free</td>\n",
       "      <td>0.0</td>\n",
       "      <td>0.0</td>\n",
       "      <td>11</td>\n",
       "    </tr>\n",
       "    <tr>\n",
       "      <th>10838</th>\n",
       "      <td>NaN</td>\n",
       "      <td>3.0</td>\n",
       "      <td>9.5M</td>\n",
       "      <td>1000.0</td>\n",
       "      <td>Free</td>\n",
       "      <td>0.0</td>\n",
       "      <td>0.0</td>\n",
       "      <td>20</td>\n",
       "    </tr>\n",
       "    <tr>\n",
       "      <th>10839</th>\n",
       "      <td>4.5</td>\n",
       "      <td>114.0</td>\n",
       "      <td>Varies with device</td>\n",
       "      <td>1000.0</td>\n",
       "      <td>Free</td>\n",
       "      <td>0.0</td>\n",
       "      <td>3.0</td>\n",
       "      <td>3</td>\n",
       "    </tr>\n",
       "    <tr>\n",
       "      <th>10840</th>\n",
       "      <td>4.5</td>\n",
       "      <td>398307.0</td>\n",
       "      <td>19M</td>\n",
       "      <td>10000000.0</td>\n",
       "      <td>Free</td>\n",
       "      <td>0.0</td>\n",
       "      <td>0.0</td>\n",
       "      <td>18</td>\n",
       "    </tr>\n",
       "  </tbody>\n",
       "</table>\n",
       "</div>"
      ],
      "text/plain": [
       "       Rating   Reviews                Size    Installs  Type  Price  \\\n",
       "10836     4.5      38.0                 53M      5000.0  Free    0.0   \n",
       "10837     5.0       4.0                3.6M       100.0  Free    0.0   \n",
       "10838     NaN       3.0                9.5M      1000.0  Free    0.0   \n",
       "10839     4.5     114.0  Varies with device      1000.0  Free    0.0   \n",
       "10840     4.5  398307.0                 19M  10000000.0  Free    0.0   \n",
       "\n",
       "       content_rating  category_code  \n",
       "10836             0.0             11  \n",
       "10837             0.0             11  \n",
       "10838             0.0             20  \n",
       "10839             3.0              3  \n",
       "10840             0.0             18  "
      ]
     },
     "execution_count": 31,
     "metadata": {},
     "output_type": "execute_result"
    }
   ],
   "source": [
    "google.tail()"
   ]
  },
  {
   "cell_type": "code",
   "execution_count": 32,
   "metadata": {
    "colab": {
     "base_uri": "https://localhost:8080/"
    },
    "colab_type": "code",
    "id": "-oO7GQ7kFZci",
    "outputId": "8768d679-ea6a-47c3-8dd7-3d01635cb098"
   },
   "outputs": [
    {
     "data": {
      "text/html": [
       "<div>\n",
       "<style scoped>\n",
       "    .dataframe tbody tr th:only-of-type {\n",
       "        vertical-align: middle;\n",
       "    }\n",
       "\n",
       "    .dataframe tbody tr th {\n",
       "        vertical-align: top;\n",
       "    }\n",
       "\n",
       "    .dataframe thead th {\n",
       "        text-align: right;\n",
       "    }\n",
       "</style>\n",
       "<table border=\"1\" class=\"dataframe\">\n",
       "  <thead>\n",
       "    <tr style=\"text-align: right;\">\n",
       "      <th></th>\n",
       "      <th>Rating</th>\n",
       "      <th>Reviews</th>\n",
       "      <th>Installs</th>\n",
       "      <th>Price</th>\n",
       "      <th>content_rating</th>\n",
       "      <th>category_code</th>\n",
       "    </tr>\n",
       "  </thead>\n",
       "  <tbody>\n",
       "    <tr>\n",
       "      <th>count</th>\n",
       "      <td>9367.000000</td>\n",
       "      <td>1.084000e+04</td>\n",
       "      <td>1.084000e+04</td>\n",
       "      <td>10840.000000</td>\n",
       "      <td>10840.000000</td>\n",
       "      <td>10841.000000</td>\n",
       "    </tr>\n",
       "    <tr>\n",
       "      <th>mean</th>\n",
       "      <td>4.191513</td>\n",
       "      <td>4.441528e+05</td>\n",
       "      <td>1.546434e+07</td>\n",
       "      <td>1.027368</td>\n",
       "      <td>0.327952</td>\n",
       "      <td>16.723826</td>\n",
       "    </tr>\n",
       "    <tr>\n",
       "      <th>std</th>\n",
       "      <td>0.515735</td>\n",
       "      <td>2.927761e+06</td>\n",
       "      <td>8.502936e+07</td>\n",
       "      <td>15.949703</td>\n",
       "      <td>0.761608</td>\n",
       "      <td>8.354469</td>\n",
       "    </tr>\n",
       "    <tr>\n",
       "      <th>min</th>\n",
       "      <td>1.000000</td>\n",
       "      <td>0.000000e+00</td>\n",
       "      <td>0.000000e+00</td>\n",
       "      <td>0.000000</td>\n",
       "      <td>0.000000</td>\n",
       "      <td>0.000000</td>\n",
       "    </tr>\n",
       "    <tr>\n",
       "      <th>25%</th>\n",
       "      <td>4.000000</td>\n",
       "      <td>3.800000e+01</td>\n",
       "      <td>1.000000e+03</td>\n",
       "      <td>0.000000</td>\n",
       "      <td>0.000000</td>\n",
       "      <td>11.000000</td>\n",
       "    </tr>\n",
       "    <tr>\n",
       "      <th>50%</th>\n",
       "      <td>4.300000</td>\n",
       "      <td>2.094000e+03</td>\n",
       "      <td>1.000000e+05</td>\n",
       "      <td>0.000000</td>\n",
       "      <td>0.000000</td>\n",
       "      <td>14.000000</td>\n",
       "    </tr>\n",
       "    <tr>\n",
       "      <th>75%</th>\n",
       "      <td>4.500000</td>\n",
       "      <td>5.477550e+04</td>\n",
       "      <td>5.000000e+06</td>\n",
       "      <td>0.000000</td>\n",
       "      <td>0.000000</td>\n",
       "      <td>25.000000</td>\n",
       "    </tr>\n",
       "    <tr>\n",
       "      <th>max</th>\n",
       "      <td>5.000000</td>\n",
       "      <td>7.815831e+07</td>\n",
       "      <td>1.000000e+09</td>\n",
       "      <td>400.000000</td>\n",
       "      <td>5.000000</td>\n",
       "      <td>32.000000</td>\n",
       "    </tr>\n",
       "  </tbody>\n",
       "</table>\n",
       "</div>"
      ],
      "text/plain": [
       "            Rating       Reviews      Installs         Price  content_rating  \\\n",
       "count  9367.000000  1.084000e+04  1.084000e+04  10840.000000    10840.000000   \n",
       "mean      4.191513  4.441528e+05  1.546434e+07      1.027368        0.327952   \n",
       "std       0.515735  2.927761e+06  8.502936e+07     15.949703        0.761608   \n",
       "min       1.000000  0.000000e+00  0.000000e+00      0.000000        0.000000   \n",
       "25%       4.000000  3.800000e+01  1.000000e+03      0.000000        0.000000   \n",
       "50%       4.300000  2.094000e+03  1.000000e+05      0.000000        0.000000   \n",
       "75%       4.500000  5.477550e+04  5.000000e+06      0.000000        0.000000   \n",
       "max       5.000000  7.815831e+07  1.000000e+09    400.000000        5.000000   \n",
       "\n",
       "       category_code  \n",
       "count   10841.000000  \n",
       "mean       16.723826  \n",
       "std         8.354469  \n",
       "min         0.000000  \n",
       "25%        11.000000  \n",
       "50%        14.000000  \n",
       "75%        25.000000  \n",
       "max        32.000000  "
      ]
     },
     "execution_count": 32,
     "metadata": {},
     "output_type": "execute_result"
    }
   ],
   "source": [
    "google.describe()"
   ]
  },
  {
   "cell_type": "markdown",
   "metadata": {
    "colab_type": "text",
    "id": "aAS1WoTjFZcm"
   },
   "source": [
    "### Size"
   ]
  },
  {
   "cell_type": "code",
   "execution_count": 33,
   "metadata": {
    "colab": {
     "base_uri": "https://localhost:8080/"
    },
    "colab_type": "code",
    "id": "XON0dRv5FZcm",
    "outputId": "b49f5b9e-c40a-425a-f48c-d70c4fade5db"
   },
   "outputs": [
    {
     "data": {
      "text/plain": [
       "array(['19M', '14M', '8.7M', '25M', '2.8M', '5.6M', '29M', '33M', '3.1M',\n",
       "       '28M', '12M', '20M', '21M', '37M', '2.7M', '5.5M', '17M', '39M',\n",
       "       '31M', '4.2M', '7.0M', '23M', '6.0M', '6.1M', '4.6M', '9.2M',\n",
       "       '5.2M', '11M', '24M', 'Varies with device', '9.4M', '15M', '10M',\n",
       "       '1.2M', '26M', '8.0M', '7.9M', '56M', '57M', '35M', '54M', '201k',\n",
       "       '3.6M', '5.7M', '8.6M', '2.4M', '27M', '2.5M', '16M', '3.4M',\n",
       "       '8.9M', '3.9M', '2.9M', '38M', '32M', '5.4M', '18M', '1.1M',\n",
       "       '2.2M', '4.5M', '9.8M', '52M', '9.0M', '6.7M', '30M', '2.6M',\n",
       "       '7.1M', '3.7M', '22M', '7.4M', '6.4M', '3.2M', '8.2M', '9.9M',\n",
       "       '4.9M', '9.5M', '5.0M', '5.9M', '13M', '73M', '6.8M', '3.5M',\n",
       "       '4.0M', '2.3M', '7.2M', '2.1M', '42M', '7.3M', '9.1M', '55M',\n",
       "       '23k', '6.5M', '1.5M', '7.5M', '51M', '41M', '48M', '8.5M', '46M',\n",
       "       '8.3M', '4.3M', '4.7M', '3.3M', '40M', '7.8M', '8.8M', '6.6M',\n",
       "       '5.1M', '61M', '66M', '79k', '8.4M', '118k', '44M', '695k', '1.6M',\n",
       "       '6.2M', '18k', '53M', '1.4M', 3000000, '5.8M', '3.8M', '9.6M',\n",
       "       '45M', '63M', '49M', '77M', '4.4M', '4.8M', '70M', '6.9M', '9.3M',\n",
       "       '10.0M', '8.1M', '36M', '84M', '97M', '2.0M', '1.9M', '1.8M',\n",
       "       '5.3M', '47M', '556k', '526k', '76M', '7.6M', '59M', '9.7M', '78M',\n",
       "       '72M', '43M', '7.7M', '6.3M', '334k', '34M', '93M', '65M', '79M',\n",
       "       '100M', '58M', '50M', '68M', '64M', '67M', '60M', '94M', '232k',\n",
       "       '99M', '624k', '95M', '8.5k', '41k', '292k', '11k', '80M', '1.7M',\n",
       "       '74M', '62M', '69M', '75M', '98M', '85M', '82M', '96M', '87M',\n",
       "       '71M', '86M', '91M', '81M', '92M', '83M', '88M', '704k', '862k',\n",
       "       '899k', '378k', '266k', '375k', '1.3M', '975k', '980k', '4.1M',\n",
       "       '89M', '696k', '544k', '525k', '920k', '779k', '853k', '720k',\n",
       "       '713k', '772k', '318k', '58k', '241k', '196k', '857k', '51k',\n",
       "       '953k', '865k', '251k', '930k', '540k', '313k', '746k', '203k',\n",
       "       '26k', '314k', '239k', '371k', '220k', '730k', '756k', '91k',\n",
       "       '293k', '17k', '74k', '14k', '317k', '78k', '924k', '902k', '818k',\n",
       "       '81k', '939k', '169k', '45k', '475k', '965k', '90M', '545k', '61k',\n",
       "       '283k', '655k', '714k', '93k', '872k', '121k', '322k', '1.0M',\n",
       "       '976k', '172k', '238k', '549k', '206k', '954k', '444k', '717k',\n",
       "       '210k', '609k', '308k', '705k', '306k', '904k', '473k', '175k',\n",
       "       '350k', '383k', '454k', '421k', '70k', '812k', '442k', '842k',\n",
       "       '417k', '412k', '459k', '478k', '335k', '782k', '721k', '430k',\n",
       "       '429k', '192k', '200k', '460k', '728k', '496k', '816k', '414k',\n",
       "       '506k', '887k', '613k', '243k', '569k', '778k', '683k', '592k',\n",
       "       '319k', '186k', '840k', '647k', '191k', '373k', '437k', '598k',\n",
       "       '716k', '585k', '982k', '222k', '219k', '55k', '948k', '323k',\n",
       "       '691k', '511k', '951k', '963k', '25k', '554k', '351k', '27k',\n",
       "       '82k', '208k', '913k', '514k', '551k', '29k', '103k', '898k',\n",
       "       '743k', '116k', '153k', '209k', '353k', '499k', '173k', '597k',\n",
       "       '809k', '122k', '411k', '400k', '801k', '787k', '237k', '50k',\n",
       "       '643k', '986k', '97k', '516k', '837k', '780k', '961k', '269k',\n",
       "       '20k', '498k', '600k', '749k', '642k', '881k', '72k', '656k',\n",
       "       '601k', '221k', '228k', '108k', '940k', '176k', '33k', '663k',\n",
       "       '34k', '942k', '259k', '164k', '458k', '245k', '629k', '28k',\n",
       "       '288k', '775k', '785k', '636k', '916k', '994k', '309k', '485k',\n",
       "       '914k', '903k', '608k', '500k', '54k', '562k', '847k', '957k',\n",
       "       '688k', '811k', '270k', '48k', '329k', '523k', '921k', '874k',\n",
       "       '981k', '784k', '280k', '24k', '518k', '754k', '892k', '154k',\n",
       "       '860k', '364k', '387k', '626k', '161k', '879k', '39k', '970k',\n",
       "       '170k', '141k', '160k', '144k', '143k', '190k', '376k', '193k',\n",
       "       '246k', '73k', '658k', '992k', '253k', '420k', '404k', '1,000+',\n",
       "       '470k', '226k', '240k', '89k', '234k', '257k', '861k', '467k',\n",
       "       '157k', '44k', '676k', '67k', '552k', '885k', '1020k', '582k',\n",
       "       '619k'], dtype=object)"
      ]
     },
     "execution_count": 33,
     "metadata": {},
     "output_type": "execute_result"
    }
   ],
   "source": [
    "google.Size.unique()"
   ]
  },
  {
   "cell_type": "markdown",
   "metadata": {
    "colab_type": "text",
    "id": "g_FuK-nTFZcq"
   },
   "source": [
    "# this cell should only be run once\n",
    "\n",
    "```\n",
    "mega = google['Size'].str.contains('M')\n",
    "kilo = google['Size'].str.contains('k')\n",
    "```"
   ]
  },
  {
   "cell_type": "markdown",
   "metadata": {
    "colab_type": "text",
    "id": "9IsKocJKFZcq"
   },
   "source": [
    "```\n",
    "google['Size'] = google['Size'].str.strip('k')\n",
    "google['Size'] = google['Size'].str.strip('M')\n",
    "google['Size'] = pd.to_numeric(google['Size'], errors='coerce')\n",
    "```"
   ]
  },
  {
   "cell_type": "markdown",
   "metadata": {
    "colab_type": "text",
    "id": "48RsCrGMFZcr"
   },
   "source": [
    "\n",
    "\n",
    "```\n",
    "google['Size'].loc[mega] = google['Size'].loc[mega] * 1000000\n",
    "google['Size'].loc[kilo] = google['Size'].loc[kilo] * 1000\n",
    "```\n"
   ]
  },
  {
   "cell_type": "markdown",
   "metadata": {
    "colab_type": "text",
    "id": "4B_LcucNFZcr"
   },
   "source": [
    "### Type"
   ]
  },
  {
   "cell_type": "code",
   "execution_count": 34,
   "metadata": {
    "colab": {
     "base_uri": "https://localhost:8080/"
    },
    "colab_type": "code",
    "id": "NO7fKqyrFZcs",
    "outputId": "48604c3e-1f8d-41fd-a322-e30e55ae16c3"
   },
   "outputs": [
    {
     "data": {
      "text/plain": [
       "array(['Free', 'Paid', nan, '0'], dtype=object)"
      ]
     },
     "execution_count": 34,
     "metadata": {},
     "output_type": "execute_result"
    }
   ],
   "source": [
    "google.Type.unique()"
   ]
  },
  {
   "cell_type": "code",
   "execution_count": 35,
   "metadata": {
    "colab": {},
    "colab_type": "code",
    "id": "gvKt5AuwFZcv"
   },
   "outputs": [],
   "source": [
    "google.dropna(inplace=True)"
   ]
  },
  {
   "cell_type": "code",
   "execution_count": 36,
   "metadata": {
    "colab": {
     "base_uri": "https://localhost:8080/"
    },
    "colab_type": "code",
    "id": "QLEX0QMOFZc3",
    "outputId": "a95e50a8-97ef-4c8b-f809-30a30c085ec6"
   },
   "outputs": [
    {
     "data": {
      "text/plain": [
       "array(['Free', 'Paid'], dtype=object)"
      ]
     },
     "execution_count": 36,
     "metadata": {},
     "output_type": "execute_result"
    }
   ],
   "source": [
    "google.Type.unique()"
   ]
  },
  {
   "cell_type": "code",
   "execution_count": 37,
   "metadata": {
    "colab": {},
    "colab_type": "code",
    "id": "_1F5JcwYFZc5"
   },
   "outputs": [],
   "source": [
    "# Changing variables to integers\n",
    "type_code = {\"Type\": {\"Free\": 0, \"Paid\":1}}"
   ]
  },
  {
   "cell_type": "code",
   "execution_count": 38,
   "metadata": {
    "colab": {},
    "colab_type": "code",
    "id": "fsogAYhWFZc7"
   },
   "outputs": [],
   "source": [
    "google.replace(type_code, inplace=True)"
   ]
  },
  {
   "cell_type": "markdown",
   "metadata": {
    "colab_type": "text",
    "id": "EJIdAamsFZc8"
   },
   "source": [
    "## Visualizations"
   ]
  },
  {
   "cell_type": "markdown",
   "metadata": {
    "colab_type": "text",
    "id": "oL_zGagM5ZP6"
   },
   "source": [
    "We will be utilisizing matplotlib and seaborn packages to conduct an exploratory data analysis on our dataframe."
   ]
  },
  {
   "cell_type": "code",
   "execution_count": 39,
   "metadata": {
    "colab": {},
    "colab_type": "code",
    "id": "MBHp6P2GFZc9"
   },
   "outputs": [],
   "source": [
    "sns.set_palette(\"GnBu_d\")\n",
    "sns.set_style('whitegrid')"
   ]
  },
  {
   "cell_type": "code",
   "execution_count": 40,
   "metadata": {
    "colab": {},
    "colab_type": "code",
    "id": "DhzpFxjZFZc_"
   },
   "outputs": [],
   "source": [
    "google.drop(\"Size\",axis=1, inplace=True)"
   ]
  },
  {
   "cell_type": "markdown",
   "metadata": {
    "colab_type": "text",
    "id": "B4OPM7915ZQA"
   },
   "source": [
    "In order to avoid skewed results, we should scale our variables.\n",
    "Check if y needs to be scaled."
   ]
  },
  {
   "cell_type": "code",
   "execution_count": 41,
   "metadata": {
    "colab": {
     "base_uri": "https://localhost:8080/"
    },
    "colab_type": "code",
    "id": "cn-iWCx5FZdA",
    "outputId": "0b125e32-6cb5-406d-ac24-ba297ef1bb6e"
   },
   "outputs": [
    {
     "name": "stdout",
     "output_type": "stream",
     "text": [
      "MinMaxScaler(copy=True, feature_range=(0, 1))\n"
     ]
    }
   ],
   "source": [
    "from sklearn.preprocessing import MinMaxScaler\n",
    "scaler = MinMaxScaler()\n",
    "print(scaler.fit(google))"
   ]
  },
  {
   "cell_type": "code",
   "execution_count": 42,
   "metadata": {
    "colab": {
     "base_uri": "https://localhost:8080/",
     "height": 74
    },
    "colab_type": "code",
    "id": "5R5znxatFZdD",
    "outputId": "3301bc6d-e767-49a5-bf5a-16ee0588831b"
   },
   "outputs": [],
   "source": [
    "google_scaled = pd.DataFrame(scaler.fit_transform(google), columns=google.columns)"
   ]
  },
  {
   "cell_type": "markdown",
   "metadata": {
    "colab_type": "text",
    "id": "s30P0o_GFZdF"
   },
   "source": [
    "### Pairplot"
   ]
  },
  {
   "cell_type": "code",
   "execution_count": 43,
   "metadata": {
    "colab": {
     "base_uri": "https://localhost:8080/",
     "height": 1304
    },
    "colab_type": "code",
    "id": "ZGuE1caNFZdF",
    "outputId": "db263bf0-28ed-4f70-db34-c7b217091143",
    "scrolled": true
   },
   "outputs": [
    {
     "data": {
      "text/plain": [
       "<seaborn.axisgrid.PairGrid at 0x1ef05668a90>"
      ]
     },
     "execution_count": 43,
     "metadata": {},
     "output_type": "execute_result"
    },
    {
     "data": {
      "image/png": "[encoded data removed]",
      "text/plain": [
       "<Figure size 1260x1260 with 56 Axes>"
      ]
     },
     "metadata": {},
     "output_type": "display_data"
    }
   ],
   "source": [
    "sns.pairplot(google_scaled)"
   ]
  },
  {
   "cell_type": "markdown",
   "metadata": {
    "colab_type": "text",
    "id": "G5f9IsTS5ZQJ"
   },
   "source": [
    "We can see that from the above pairplot that we do not have any linear relationships amongst the variables. "
   ]
  },
  {
   "cell_type": "markdown",
   "metadata": {
    "colab_type": "text",
    "id": "LrmMLGjPFZdH"
   },
   "source": [
    "### Distribution Plots"
   ]
  },
  {
   "cell_type": "code",
   "execution_count": 44,
   "metadata": {
    "colab": {
     "base_uri": "https://localhost:8080/",
     "height": 352
    },
    "colab_type": "code",
    "id": "JQ_RUT1CFZdI",
    "outputId": "4c34efc4-43be-46b2-9852-fad81b9df777"
   },
   "outputs": [
    {
     "name": "stderr",
     "output_type": "stream",
     "text": [
      "C:\\Users\\nairj\\Anaconda3\\lib\\site-packages\\scipy\\stats\\stats.py:1713: FutureWarning: Using a non-tuple sequence for multidimensional indexing is deprecated; use `arr[tuple(seq)]` instead of `arr[seq]`. In the future this will be interpreted as an array index, `arr[np.array(seq)]`, which will result either in an error or a different result.\n",
      "  return np.add.reduce(sorted[indexer] * weights, axis=axis) / sumval\n"
     ]
    },
    {
     "data": {
      "text/plain": [
       "<matplotlib.axes._subplots.AxesSubplot at 0x1ef09142470>"
      ]
     },
     "execution_count": 44,
     "metadata": {},
     "output_type": "execute_result"
    },
    {
     "data": {
      "image/png": "[encoded data removed]",
      "text/plain": [
       "<Figure size 432x288 with 1 Axes>"
      ]
     },
     "metadata": {},
     "output_type": "display_data"
    }
   ],
   "source": [
    "sns.distplot(google_scaled[\"Rating\"])"
   ]
  },
  {
   "cell_type": "markdown",
   "metadata": {
    "colab_type": "text",
    "id": "iSLsXKpwFZdM"
   },
   "source": [
    "### Heatmap"
   ]
  },
  {
   "cell_type": "code",
   "execution_count": 45,
   "metadata": {
    "colab": {
     "base_uri": "https://localhost:8080/",
     "height": 258
    },
    "colab_type": "code",
    "id": "ThvIsjmpFZdN",
    "outputId": "4dacec85-61a8-4fc1-b32e-a26b318d67dd"
   },
   "outputs": [
    {
     "data": {
      "text/html": [
       "<div>\n",
       "<style scoped>\n",
       "    .dataframe tbody tr th:only-of-type {\n",
       "        vertical-align: middle;\n",
       "    }\n",
       "\n",
       "    .dataframe tbody tr th {\n",
       "        vertical-align: top;\n",
       "    }\n",
       "\n",
       "    .dataframe thead th {\n",
       "        text-align: right;\n",
       "    }\n",
       "</style>\n",
       "<table border=\"1\" class=\"dataframe\">\n",
       "  <thead>\n",
       "    <tr style=\"text-align: right;\">\n",
       "      <th></th>\n",
       "      <th>Rating</th>\n",
       "      <th>Reviews</th>\n",
       "      <th>Installs</th>\n",
       "      <th>Type</th>\n",
       "      <th>Price</th>\n",
       "      <th>content_rating</th>\n",
       "      <th>category_code</th>\n",
       "    </tr>\n",
       "  </thead>\n",
       "  <tbody>\n",
       "    <tr>\n",
       "      <th>Rating</th>\n",
       "      <td>1.000000</td>\n",
       "      <td>0.068141</td>\n",
       "      <td>0.051355</td>\n",
       "      <td>0.039581</td>\n",
       "      <td>-0.021903</td>\n",
       "      <td>0.000931</td>\n",
       "      <td>-0.034603</td>\n",
       "    </tr>\n",
       "    <tr>\n",
       "      <th>Reviews</th>\n",
       "      <td>0.068141</td>\n",
       "      <td>1.000000</td>\n",
       "      <td>0.641612</td>\n",
       "      <td>-0.043290</td>\n",
       "      <td>-0.009820</td>\n",
       "      <td>0.060971</td>\n",
       "      <td>0.000883</td>\n",
       "    </tr>\n",
       "    <tr>\n",
       "      <th>Installs</th>\n",
       "      <td>0.051355</td>\n",
       "      <td>0.641612</td>\n",
       "      <td>1.000000</td>\n",
       "      <td>-0.053102</td>\n",
       "      <td>-0.011890</td>\n",
       "      <td>0.028532</td>\n",
       "      <td>0.022763</td>\n",
       "    </tr>\n",
       "    <tr>\n",
       "      <th>Type</th>\n",
       "      <td>0.039581</td>\n",
       "      <td>-0.043290</td>\n",
       "      <td>-0.053102</td>\n",
       "      <td>1.000000</td>\n",
       "      <td>0.223040</td>\n",
       "      <td>-0.034638</td>\n",
       "      <td>0.023227</td>\n",
       "    </tr>\n",
       "    <tr>\n",
       "      <th>Price</th>\n",
       "      <td>-0.021903</td>\n",
       "      <td>-0.009820</td>\n",
       "      <td>-0.011890</td>\n",
       "      <td>0.223040</td>\n",
       "      <td>1.000000</td>\n",
       "      <td>-0.016128</td>\n",
       "      <td>-0.012913</td>\n",
       "    </tr>\n",
       "    <tr>\n",
       "      <th>content_rating</th>\n",
       "      <td>0.000931</td>\n",
       "      <td>0.060971</td>\n",
       "      <td>0.028532</td>\n",
       "      <td>-0.034638</td>\n",
       "      <td>-0.016128</td>\n",
       "      <td>1.000000</td>\n",
       "      <td>-0.124740</td>\n",
       "    </tr>\n",
       "    <tr>\n",
       "      <th>category_code</th>\n",
       "      <td>-0.034603</td>\n",
       "      <td>0.000883</td>\n",
       "      <td>0.022763</td>\n",
       "      <td>0.023227</td>\n",
       "      <td>-0.012913</td>\n",
       "      <td>-0.124740</td>\n",
       "      <td>1.000000</td>\n",
       "    </tr>\n",
       "  </tbody>\n",
       "</table>\n",
       "</div>"
      ],
      "text/plain": [
       "                  Rating   Reviews  Installs      Type     Price  \\\n",
       "Rating          1.000000  0.068141  0.051355  0.039581 -0.021903   \n",
       "Reviews         0.068141  1.000000  0.641612 -0.043290 -0.009820   \n",
       "Installs        0.051355  0.641612  1.000000 -0.053102 -0.011890   \n",
       "Type            0.039581 -0.043290 -0.053102  1.000000  0.223040   \n",
       "Price          -0.021903 -0.009820 -0.011890  0.223040  1.000000   \n",
       "content_rating  0.000931  0.060971  0.028532 -0.034638 -0.016128   \n",
       "category_code  -0.034603  0.000883  0.022763  0.023227 -0.012913   \n",
       "\n",
       "                content_rating  category_code  \n",
       "Rating                0.000931      -0.034603  \n",
       "Reviews               0.060971       0.000883  \n",
       "Installs              0.028532       0.022763  \n",
       "Type                 -0.034638       0.023227  \n",
       "Price                -0.016128      -0.012913  \n",
       "content_rating        1.000000      -0.124740  \n",
       "category_code        -0.124740       1.000000  "
      ]
     },
     "execution_count": 45,
     "metadata": {},
     "output_type": "execute_result"
    }
   ],
   "source": [
    "google_scaled.corr()"
   ]
  },
  {
   "cell_type": "markdown",
   "metadata": {
    "colab_type": "text",
    "id": "MJ7w5X-vPlcN"
   },
   "source": [
    "\n",
    "We observe a high correlation ($r = 0.64$) between the numbers of reviews and installs. Intuitively this makes sense, as apps that have been installed more often would have a higher number of reviews. These is also a modest correlation ($r=0.22$) between type and price of an app.  \n",
    "\n"
   ]
  },
  {
   "cell_type": "code",
   "execution_count": 46,
   "metadata": {
    "colab": {
     "base_uri": "https://localhost:8080/",
     "height": 339
    },
    "colab_type": "code",
    "id": "8oxAQ0kIFZdO",
    "outputId": "64acc81d-6f0f-426d-c835-ff9f53125efe"
   },
   "outputs": [
    {
     "data": {
      "text/plain": [
       "<matplotlib.axes._subplots.AxesSubplot at 0x1ef09916128>"
      ]
     },
     "execution_count": 46,
     "metadata": {},
     "output_type": "execute_result"
    },
    {
     "data": {
      "image/png": "[encoded data removed]",
      "text/plain": [
       "<Figure size 432x288 with 2 Axes>"
      ]
     },
     "metadata": {},
     "output_type": "display_data"
    }
   ],
   "source": [
    "sns.heatmap(google_scaled.corr(),annot=True)"
   ]
  },
  {
   "cell_type": "markdown",
   "metadata": {
    "colab_type": "text",
    "id": "hSC5KupM5ZQX"
   },
   "source": [
    "We see that installs and reviews have the highest correlation. Negative correlations such as price vs. most variables could indicate that high prices are a putoff for users."
   ]
  },
  {
   "cell_type": "markdown",
   "metadata": {
    "colab_type": "text",
    "id": "RYss8whIFZdS"
   },
   "source": [
    "### Scatterplot"
   ]
  },
  {
   "cell_type": "code",
   "execution_count": 47,
   "metadata": {
    "colab": {
     "base_uri": "https://localhost:8080/",
     "height": 295
    },
    "colab_type": "code",
    "id": "5DnK37_cFZdT",
    "outputId": "b1b42791-f320-4cea-b12b-610370ce323a"
   },
   "outputs": [
    {
     "data": {
      "image/png": "[encoded data removed]",
      "text/plain": [
       "<Figure size 432x288 with 1 Axes>"
      ]
     },
     "metadata": {},
     "output_type": "display_data"
    }
   ],
   "source": [
    "plt.scatter(google_scaled.Rating, google_scaled.Reviews)\n",
    "plt.xlabel('Rating')\n",
    "plt.ylabel('Reviews')\n",
    "plt.axhline(y=0)\n",
    "plt.title('Rating vs. Reviews')\n",
    "plt.show()\n"
   ]
  },
  {
   "cell_type": "markdown",
   "metadata": {
    "colab_type": "text",
    "id": "2Pezh0VmFZdU"
   },
   "source": [
    "The scatterplot shows higher ratings with higher reviews, which makes sense. Apps with good ratings might have users leaving a good reviews for others to view.\n",
    "\n",
    "\n",
    "\n"
   ]
  },
  {
   "cell_type": "code",
   "execution_count": 48,
   "metadata": {
    "colab": {
     "base_uri": "https://localhost:8080/",
     "height": 295
    },
    "colab_type": "code",
    "id": "YfdGs_ruFZdU",
    "outputId": "064401e2-54a8-4604-fdb6-69ca7fc85f54"
   },
   "outputs": [
    {
     "data": {
      "image/png": "[encoded data removed]",
      "text/plain": [
       "<Figure size 432x288 with 1 Axes>"
      ]
     },
     "metadata": {},
     "output_type": "display_data"
    }
   ],
   "source": [
    "plt.scatter(google_scaled.Rating, google_scaled.category_code)\n",
    "plt.xlabel('Rating')\n",
    "plt.ylabel('Category')\n",
    "plt.axhline(y=0)\n",
    "plt.title('Rating vs Category')\n",
    "plt.show()\n"
   ]
  },
  {
   "cell_type": "markdown",
   "metadata": {
    "colab_type": "text",
    "id": "W0I0rUP-FZdX"
   },
   "source": [
    "## Data Modeling"
   ]
  },
  {
   "cell_type": "markdown",
   "metadata": {
    "colab_type": "text",
    "id": "-l9MAKjA5ZQg"
   },
   "source": [
    "**Splitting the data modeling in two parts: Classification and Regression. The classification models should help us correctly classify the categorical variables against ratings.**"
   ]
  },
  {
   "cell_type": "markdown",
   "metadata": {
    "colab_type": "text",
    "id": "nkWBWzkxrMPn"
   },
   "source": [
    "\n",
    "## Regression Analyses"
   ]
  },
  {
   "cell_type": "markdown",
   "metadata": {
    "colab_type": "text",
    "id": "32EYs_tdFZdY"
   },
   "source": [
    "Lets begin by training our regression model. We aim at predicting the features that would lead to a given rating. "
   ]
  },
  {
   "cell_type": "code",
   "execution_count": 49,
   "metadata": {
    "colab": {},
    "colab_type": "code",
    "id": "TfRBT9KBFZdY"
   },
   "outputs": [],
   "source": [
    "#Assigning my x and y\n",
    "\n",
    "features = ['Reviews','Installs','Type','Price',\n",
    "            'category_code','content_rating']\n",
    "X = google_scaled[features]\n",
    "y = google_scaled[['Rating']]"
   ]
  },
  {
   "cell_type": "code",
   "execution_count": 50,
   "metadata": {
    "colab": {},
    "colab_type": "code",
    "id": "LwbexrAVFZda"
   },
   "outputs": [],
   "source": [
    "#Train Test Split\n",
    "from sklearn.model_selection import train_test_split"
   ]
  },
  {
   "cell_type": "code",
   "execution_count": 51,
   "metadata": {
    "colab": {},
    "colab_type": "code",
    "id": "hMfCKgMfFZdc"
   },
   "outputs": [],
   "source": [
    "X_train, X_test, y_train, y_test = train_test_split(X, y, \n",
    "                                                    test_size=0.3,\n",
    "                                                    random_state=101)"
   ]
  },
  {
   "cell_type": "markdown",
   "metadata": {
    "colab_type": "text",
    "id": "08q55kMrFZeG"
   },
   "source": [
    "### Ridge Regression\n",
    "With ridge regression, we try to predict the rating as a continuous value. The low $r^2$ value indicates that these features have low explanatory power. We're likely underfitting the dataset. \n",
    "\n",
    "**TO DO: add polynomial features and use a lower value for alpha **"
   ]
  },
  {
   "cell_type": "code",
   "execution_count": 52,
   "metadata": {
    "colab": {
     "base_uri": "https://localhost:8080/",
     "height": 90
    },
    "colab_type": "code",
    "id": "I2psI1koFZeH",
    "outputId": "6c4cb26f-7603-440f-8e38-a3d66b556fba"
   },
   "outputs": [
    {
     "name": "stdout",
     "output_type": "stream",
     "text": [
      "The r^2 value is = 0.008564418905254056\n",
      "The parameters of features ['Reviews', 'Installs', 'Type', 'Price', 'category_code', 'content_rating'] \n",
      " for the ridge regression model are \n",
      "[ 0.1618027   0.02650054  0.02595659 -0.08714568 -0.01947737  0.00234455]\n"
     ]
    }
   ],
   "source": [
    "from sklearn import linear_model\n",
    "from sklearn.linear_model import Ridge\n",
    "\n",
    "ridgeregr = linear_model.Ridge(alpha=0.5, fit_intercept=True) \n",
    "ridgeregr.fit(X_train, y_train)\n",
    "print(\"The r^2 value is = {}\".format(ridgeregr.score(X_train, y_train)))\n",
    "origparams = ridgeregr.coef_[0]\n",
    "print(\"The parameters of features {} \\n for the ridge regression model are \\n{}\".format(features, origparams))\n",
    "\n",
    "\n"
   ]
  },
  {
   "cell_type": "code",
   "execution_count": 53,
   "metadata": {
    "colab": {
     "base_uri": "https://localhost:8080/",
     "height": 399
    },
    "colab_type": "code",
    "id": "AQNYDKVpo3PT",
    "outputId": "0ec9a592-306b-48fd-ed00-ba65dc9ca256"
   },
   "outputs": [
    {
     "name": "stdout",
     "output_type": "stream",
     "text": [
      "\n",
      "Now we transform the original input data to add\n",
      "polynomial features up to degree 2 (quadratic)\n",
      "\n",
      "\n",
      "Addition of many polynomial features often leads to\n",
      "overfitting, so we often use polynomial features in combination\n",
      "with regression that has a regularization penalty, like ridge\n",
      "regression.\n",
      "\n",
      "(poly deg 2 + ridge) linear model coeff (w):\n",
      "[[ 0.00000000e+00  2.78950506e-01  2.16420903e-01  6.63800203e-03\n",
      "  -3.40277212e-02  5.28231530e-02 -1.86844155e-02 -1.56101414e-01\n",
      "  -1.54042240e-01  3.61885309e-03  4.40025691e-05  1.12582907e-01\n",
      "   2.39671586e-02 -2.62963228e-01  2.17005644e-03  1.88825852e-05\n",
      "   5.51066201e-02 -2.02420052e-02  6.63800203e-03 -3.40277212e-02\n",
      "   1.85762907e-02  6.29007300e-02 -1.33086994e-03 -5.11846340e-02\n",
      "   1.17069304e-02 -7.25191588e-02  1.25360705e-01 -1.13356854e-01]]\n",
      "(poly deg 2 + ridge) linear model intercept (b): [0.79159375]\n",
      "(poly deg 2 + ridge) R-squared score (training): 0.02244357263766383\n",
      "(poly deg 2 + ridge) R-squared score (test): 0.024319713337627835\n"
     ]
    }
   ],
   "source": [
    "#Polynomial Ridge Regression\n",
    "from sklearn.preprocessing import PolynomialFeatures\n",
    "\n",
    "print('\\nNow we transform the original input data to add\\n\\\n",
    "polynomial features up to degree 2 (quadratic)\\n')\n",
    "poly = PolynomialFeatures(degree=2)\n",
    "X_poly = poly.fit_transform(X)\n",
    "\n",
    "\n",
    "print('\\nAddition of many polynomial features often leads to\\n\\\n",
    "overfitting, so we often use polynomial features in combination\\n\\\n",
    "with regression that has a regularization penalty, like ridge\\n\\\n",
    "regression.\\n')\n",
    "\n",
    "\n",
    "X_train_poly, X_test_poly, y_train, y_test = train_test_split(X_poly, \n",
    "                                                              y,\n",
    "                                                              random_state = 0)\n",
    "\n",
    "\n",
    "\n",
    "\n",
    "ridgereg = Ridge().fit(X_train_poly, y_train)\n",
    "\n",
    "print('(poly deg 2 + ridge) linear model coeff (w):\\n{}'.format(ridgereg.coef_))\n",
    "print('(poly deg 2 + ridge) linear model intercept (b): {}'.format(ridgereg.intercept_))\n",
    "print('(poly deg 2 + ridge) R-squared score (training): {}'.format(ridgereg.score(X_train_poly, y_train)))\n",
    "print('(poly deg 2 + ridge) R-squared score (test): {}'.format(ridgereg.score(X_test_poly, y_test)))\n"
   ]
  },
  {
   "cell_type": "markdown",
   "metadata": {
    "colab_type": "text",
    "id": "kwjIxZn-FZdd"
   },
   "source": [
    "### Linear Regression"
   ]
  },
  {
   "cell_type": "code",
   "execution_count": 54,
   "metadata": {
    "colab": {},
    "colab_type": "code",
    "id": "SsP8K2QrFZde"
   },
   "outputs": [],
   "source": [
    "from sklearn.linear_model import LinearRegression"
   ]
  },
  {
   "cell_type": "code",
   "execution_count": 55,
   "metadata": {
    "colab": {},
    "colab_type": "code",
    "id": "Bd3SgWUqFZdf"
   },
   "outputs": [],
   "source": [
    "lm = LinearRegression()"
   ]
  },
  {
   "cell_type": "code",
   "execution_count": 56,
   "metadata": {
    "colab": {
     "base_uri": "https://localhost:8080/",
     "height": 54
    },
    "colab_type": "code",
    "id": "rJ-8ZwGhFZdg",
    "outputId": "590167c0-79d3-4f70-a955-fb0ee335a34e"
   },
   "outputs": [
    {
     "data": {
      "text/plain": [
       "LinearRegression(copy_X=True, fit_intercept=True, n_jobs=1, normalize=False)"
      ]
     },
     "execution_count": 56,
     "metadata": {},
     "output_type": "execute_result"
    }
   ],
   "source": [
    "#Train\n",
    "X_train, X_test, y_train, y_test = train_test_split(X, y, \n",
    "                                                    test_size=0.3,\n",
    "                                                    random_state=101)\n",
    "\n",
    "lm.fit(X_train,y_train)"
   ]
  },
  {
   "cell_type": "code",
   "execution_count": 57,
   "metadata": {
    "colab": {
     "base_uri": "https://localhost:8080/",
     "height": 35
    },
    "colab_type": "code",
    "id": "ErhCgUY6FZdk",
    "outputId": "a2baa2c6-9c98-4a13-8621-3705bba7b89f"
   },
   "outputs": [
    {
     "name": "stdout",
     "output_type": "stream",
     "text": [
      "[0.80417688]\n"
     ]
    }
   ],
   "source": [
    "#Evaluate by checking coefficients and intercept\n",
    "print(lm.intercept_)"
   ]
  },
  {
   "cell_type": "code",
   "execution_count": 58,
   "metadata": {
    "colab": {
     "base_uri": "https://localhost:8080/",
     "height": 72
    },
    "colab_type": "code",
    "id": "sRhWzhGbFZdm",
    "outputId": "5a43808a-559d-4128-b0ff-3c8c78038489"
   },
   "outputs": [
    {
     "name": "stdout",
     "output_type": "stream",
     "text": [
      "Features: ['Reviews', 'Installs', 'Type', 'Price', 'category_code', 'content_rating']\n",
      "Coefficients: \n",
      " [[ 0.17311278  0.02341905  0.02615527 -0.09135575 -0.01950176  0.00222041]]\n"
     ]
    }
   ],
   "source": [
    "print (\"Features: {}\".format(features))\n",
    "# The coefficients are relatively low \n",
    "print('Coefficients: \\n', lm.coef_)\n",
    "\n"
   ]
  },
  {
   "cell_type": "code",
   "execution_count": 59,
   "metadata": {
    "colab": {},
    "colab_type": "code",
    "id": "xjLFsk0nFZdo"
   },
   "outputs": [],
   "source": [
    "#Test\n",
    "predictions = lm.predict(X_test)"
   ]
  },
  {
   "cell_type": "code",
   "execution_count": 60,
   "metadata": {
    "colab": {
     "base_uri": "https://localhost:8080/"
    },
    "colab_type": "code",
    "id": "mRsqcStjFZdq",
    "outputId": "983ec195-35d4-4a4b-facb-5724f9a0ef35"
   },
   "outputs": [
    {
     "data": {
      "text/plain": [
       "<matplotlib.collections.PathCollection at 0x1ef0ac84be0>"
      ]
     },
     "execution_count": 60,
     "metadata": {},
     "output_type": "execute_result"
    },
    {
     "data": {
      "image/png": "[encoded data removed]",
      "text/plain": [
       "<Figure size 432x288 with 1 Axes>"
      ]
     },
     "metadata": {},
     "output_type": "display_data"
    }
   ],
   "source": [
    "plt.scatter(y_test,predictions)\n",
    "#Why does it not show a straight line? \n",
    "#Is corr low?"
   ]
  },
  {
   "cell_type": "code",
   "execution_count": 61,
   "metadata": {
    "colab": {
     "base_uri": "https://localhost:8080/",
     "height": 72
    },
    "colab_type": "code",
    "id": "9mdleRxZFZdr",
    "outputId": "dc0a0ab8-64ef-4e5b-bc83-a513bf592987"
   },
   "outputs": [
    {
     "name": "stdout",
     "output_type": "stream",
     "text": [
      "MAE: 0.08931495536371267\n",
      "MSE: 0.016007898366191792\n",
      "RMSE: 0.12652232358833673\n"
     ]
    }
   ],
   "source": [
    "#Evaluate\n",
    "#Mean Squared Error = MSE\n",
    "#Mean Absolute Error = MAE\n",
    "#Root Mean Squared = RSME\n",
    "#from sklearn.cross_decomposition import PLSRegression\n",
    "from sklearn import metrics\n",
    "\n",
    "print('MAE:', metrics.mean_absolute_error(y_test, predictions))\n",
    "print('MSE:', metrics.mean_squared_error(y_test, predictions))\n",
    "print('RMSE:', np.sqrt(metrics.mean_squared_error(y_test, predictions)))"
   ]
  },
  {
   "cell_type": "code",
   "execution_count": 62,
   "metadata": {
    "colab": {
     "base_uri": "https://localhost:8080/",
     "height": 320
    },
    "colab_type": "code",
    "id": "iKWLugx2FZdu",
    "outputId": "65d3453f-af0f-4763-8b1c-62e47a0486e9"
   },
   "outputs": [
    {
     "name": "stderr",
     "output_type": "stream",
     "text": [
      "C:\\Users\\nairj\\Anaconda3\\lib\\site-packages\\scipy\\stats\\stats.py:1713: FutureWarning: Using a non-tuple sequence for multidimensional indexing is deprecated; use `arr[tuple(seq)]` instead of `arr[seq]`. In the future this will be interpreted as an array index, `arr[np.array(seq)]`, which will result either in an error or a different result.\n",
      "  return np.add.reduce(sorted[indexer] * weights, axis=axis) / sumval\n"
     ]
    },
    {
     "data": {
      "image/png": "[encoded data removed]",
      "text/plain": [
       "<Figure size 432x288 with 1 Axes>"
      ]
     },
     "metadata": {},
     "output_type": "display_data"
    }
   ],
   "source": [
    "#Residuals\n",
    "sns.distplot((y_test-predictions),bins=50);"
   ]
  },
  {
   "cell_type": "code",
   "execution_count": 63,
   "metadata": {
    "colab": {
     "base_uri": "https://localhost:8080/"
    },
    "colab_type": "code",
    "id": "kt0fJA8XtBwk",
    "outputId": "206d16b4-4de7-4f52-cfc3-22c26a7f4f98"
   },
   "outputs": [
    {
     "name": "stdout",
     "output_type": "stream",
     "text": [
      "\n",
      "Now we transform the original input data to add\n",
      "polynomial features up to degree 2 (quadratic)\n",
      "\n",
      "\n",
      "Addition of many polynomial features often leads to\n",
      "overfitting, so we often use polynomial features in combination\n",
      "with regression that has a regularization penalty, like ridge\n",
      "regression.\n",
      "\n",
      "(poly deg 2) linear model coeff (w):\n",
      "[[-2.99929554e-10  6.25553178e-01  1.67036670e-01  2.59864401e-03\n",
      "   1.25359599e-01  5.28265136e-02 -1.96160289e-02 -5.77619384e-01\n",
      "  -1.91590625e-01  1.15677932e+02 -6.97730971e+03  1.52056961e-01\n",
      "  -1.31894196e-01 -2.34068348e-01 -5.35502263e+01  4.33039973e+03\n",
      "   4.99606814e-02 -6.50233243e-02  2.59852056e-03  1.25359692e-01\n",
      "   3.02228585e-02  5.66468808e-02 -6.51806378e-02 -7.17823386e-01\n",
      "   3.41221307e-01 -7.29336406e-02  1.38232585e-01 -1.24788282e-01]]\n",
      "(poly deg 2) linear model intercept (b): [0.79089785]\n",
      "(poly deg 2) R-squared score (training): 0.024710738145733546\n",
      "(poly deg 2) R-squared score (test): 0.026477949791045452\n"
     ]
    }
   ],
   "source": [
    "#Polynomial Linear Regression\n",
    "print('\\nNow we transform the original input data to add\\n\\\n",
    "polynomial features up to degree 2 (quadratic)\\n')\n",
    "poly = PolynomialFeatures(degree=2)\n",
    "X_poly = poly.fit_transform(X)\n",
    "\n",
    "\n",
    "print('\\nAddition of many polynomial features often leads to\\n\\\n",
    "overfitting, so we often use polynomial features in combination\\n\\\n",
    "with regression that has a regularization penalty, like ridge\\n\\\n",
    "regression.\\n')\n",
    "\n",
    "\n",
    "X_train_poly, X_test_poly, y_train, y_test = train_test_split(X_poly, \n",
    "                                                              y,\n",
    "                                                              random_state = 0)\n",
    "\n",
    "\n",
    "linreg = LinearRegression().fit(X_train_poly, y_train)\n",
    "\n",
    "print('(poly deg 2) linear model coeff (w):\\n{}'\n",
    "     .format(linreg.coef_))\n",
    "print('(poly deg 2) linear model intercept (b): {}'\n",
    "     .format(linreg.intercept_))\n",
    "print('(poly deg 2) R-squared score (training): {}'\n",
    "     .format(linreg.score(X_train_poly, y_train)))\n",
    "print('(poly deg 2) R-squared score (test): {}'\n",
    "     .format(linreg.score(X_test_poly, y_test)))"
   ]
  },
  {
   "cell_type": "markdown",
   "metadata": {
    "colab_type": "text",
    "id": "bC_WDaP25ZRg"
   },
   "source": [
    "## Classifier Analyses"
   ]
  },
  {
   "cell_type": "markdown",
   "metadata": {
    "colab_type": "text",
    "id": "R1c6VEKMFZdw"
   },
   "source": [
    "### Logistic Regression "
   ]
  },
  {
   "cell_type": "code",
   "execution_count": 64,
   "metadata": {
    "colab": {},
    "colab_type": "code",
    "id": "DBPhx3M3FZdx"
   },
   "outputs": [],
   "source": [
    "# Logistic regression is a classification model \n",
    "from sklearn.linear_model import LogisticRegression"
   ]
  },
  {
   "cell_type": "code",
   "execution_count": 65,
   "metadata": {
    "colab": {},
    "colab_type": "code",
    "id": "R3KLeH1c0giM"
   },
   "outputs": [],
   "source": [
    "X_train, X_test, y_train, y_test = train_test_split(X, y, \n",
    "                                                    test_size=0.3,\n",
    "                                                    random_state=101)"
   ]
  },
  {
   "cell_type": "code",
   "execution_count": 66,
   "metadata": {
    "colab": {
     "base_uri": "https://localhost:8080/",
     "height": 74
    },
    "colab_type": "code",
    "id": "etwpbYe3FZd1",
    "outputId": "79967377-61eb-4ae4-c4a7-f5c9d19112d9"
   },
   "outputs": [
    {
     "name": "stderr",
     "output_type": "stream",
     "text": [
      "C:\\Users\\nairj\\Anaconda3\\lib\\site-packages\\sklearn\\preprocessing\\label.py:111: DataConversionWarning: A column-vector y was passed when a 1d array was expected. Please change the shape of y to (n_samples, ), for example using ravel().\n",
      "  y = column_or_1d(y, warn=True)\n"
     ]
    }
   ],
   "source": [
    "from sklearn import preprocessing\n",
    "from sklearn import utils\n",
    "\n",
    "lab_enc = preprocessing.LabelEncoder()\n",
    "encoded = lab_enc.fit_transform(y_train)"
   ]
  },
  {
   "cell_type": "code",
   "execution_count": 67,
   "metadata": {
    "colab": {
     "base_uri": "https://localhost:8080/",
     "height": 90
    },
    "colab_type": "code",
    "id": "8YbTgvPCTFR4",
    "outputId": "fd8be7c4-007d-40f4-a64e-57a75917db3b"
   },
   "outputs": [
    {
     "name": "stdout",
     "output_type": "stream",
     "text": [
      "median rating = Rating    0.825\n",
      "dtype: float64, min rating = Rating    0.0\n",
      "dtype: float64, max rating = Rating    1.0\n",
      "dtype: float64\n"
     ]
    }
   ],
   "source": [
    "print('median rating = {}, min rating = {}, max rating = {}'.format(y_train.median()\n",
    ", y_train.min(), y.max()))"
   ]
  },
  {
   "cell_type": "markdown",
   "metadata": {
    "colab_type": "text",
    "id": "Fb1ni1HbYT2w"
   },
   "source": [
    "To apply logistic regression, we binarize ratings as being above or below the median. "
   ]
  },
  {
   "cell_type": "code",
   "execution_count": 68,
   "metadata": {
    "colab": {
     "base_uri": "https://localhost:8080/",
     "height": 138
    },
    "colab_type": "code",
    "id": "Kc_xS9s1Vn3L",
    "outputId": "cd4df127-1742-4d0f-c1da-e9fa4de2b46b"
   },
   "outputs": [
    {
     "data": {
      "text/html": [
       "<div>\n",
       "<style scoped>\n",
       "    .dataframe tbody tr th:only-of-type {\n",
       "        vertical-align: middle;\n",
       "    }\n",
       "\n",
       "    .dataframe tbody tr th {\n",
       "        vertical-align: top;\n",
       "    }\n",
       "\n",
       "    .dataframe thead th {\n",
       "        text-align: right;\n",
       "    }\n",
       "</style>\n",
       "<table border=\"1\" class=\"dataframe\">\n",
       "  <thead>\n",
       "    <tr style=\"text-align: right;\">\n",
       "      <th></th>\n",
       "      <th>Rating</th>\n",
       "    </tr>\n",
       "  </thead>\n",
       "  <tbody>\n",
       "    <tr>\n",
       "      <th>558</th>\n",
       "      <td>1</td>\n",
       "    </tr>\n",
       "    <tr>\n",
       "      <th>1891</th>\n",
       "      <td>1</td>\n",
       "    </tr>\n",
       "    <tr>\n",
       "      <th>5626</th>\n",
       "      <td>0</td>\n",
       "    </tr>\n",
       "  </tbody>\n",
       "</table>\n",
       "</div>"
      ],
      "text/plain": [
       "      Rating\n",
       "558        1\n",
       "1891       1\n",
       "5626       0"
      ]
     },
     "execution_count": 68,
     "metadata": {},
     "output_type": "execute_result"
    }
   ],
   "source": [
    "y_train_binary = (y_train > y_train.median()).astype(np.int)\n",
    "y_train_binary.head(3)"
   ]
  },
  {
   "cell_type": "code",
   "execution_count": 69,
   "metadata": {
    "colab": {
     "base_uri": "https://localhost:8080/",
     "height": 35
    },
    "colab_type": "code",
    "id": "HY7zUHnVFZd5",
    "outputId": "b60deff7-de97-42a3-d23c-c5b8bde92ad8"
   },
   "outputs": [
    {
     "name": "stdout",
     "output_type": "stream",
     "text": [
      "binary\n"
     ]
    }
   ],
   "source": [
    "print(utils.multiclass.type_of_target(y_train_binary))"
   ]
  },
  {
   "cell_type": "code",
   "execution_count": 70,
   "metadata": {
    "colab": {
     "base_uri": "https://localhost:8080/",
     "height": 183
    },
    "colab_type": "code",
    "id": "s2PHVefdFZd_",
    "outputId": "36aa5bda-6e5e-4b94-f64b-6ce57dc2d7fc"
   },
   "outputs": [
    {
     "name": "stderr",
     "output_type": "stream",
     "text": [
      "C:\\Users\\nairj\\Anaconda3\\lib\\site-packages\\sklearn\\utils\\validation.py:578: DataConversionWarning: A column-vector y was passed when a 1d array was expected. Please change the shape of y to (n_samples, ), for example using ravel().\n",
      "  y = column_or_1d(y, warn=True)\n"
     ]
    },
    {
     "data": {
      "text/plain": [
       "LogisticRegression(C=1.0, class_weight=None, dual=False, fit_intercept=True,\n",
       "          intercept_scaling=1, max_iter=100, multi_class='ovr', n_jobs=1,\n",
       "          penalty='l2', random_state=None, solver='liblinear', tol=0.0001,\n",
       "          verbose=0, warm_start=False)"
      ]
     },
     "execution_count": 70,
     "metadata": {},
     "output_type": "execute_result"
    }
   ],
   "source": [
    "logmodel = LogisticRegression()\n",
    "logmodel.fit(X_train,y_train_binary)\n"
   ]
  },
  {
   "cell_type": "code",
   "execution_count": 71,
   "metadata": {
    "colab": {
     "base_uri": "https://localhost:8080/",
     "height": 35
    },
    "colab_type": "code",
    "id": "lEI-mz1nFZeB",
    "outputId": "410efbc7-73e2-47cc-ba09-f4bf1b02b450"
   },
   "outputs": [
    {
     "name": "stdout",
     "output_type": "stream",
     "text": [
      "(6556,) (6556, 1)\n"
     ]
    }
   ],
   "source": [
    "predictions = logmodel.predict(X_train)\n",
    "print(predictions.shape, y_train_binary.shape)\n"
   ]
  },
  {
   "cell_type": "code",
   "execution_count": 72,
   "metadata": {
    "colab": {
     "base_uri": "https://localhost:8080/",
     "height": 181
    },
    "colab_type": "code",
    "id": "DiBkTeeDW3KY",
    "outputId": "a181780b-209c-4f99-c867-aae88557d159"
   },
   "outputs": [
    {
     "name": "stdout",
     "output_type": "stream",
     "text": [
      "             precision    recall  f1-score   support\n",
      "\n",
      "          0       0.58      0.94      0.72      3707\n",
      "          1       0.60      0.11      0.19      2849\n",
      "\n",
      "avg / total       0.59      0.58      0.49      6556\n",
      "\n"
     ]
    }
   ],
   "source": [
    "#Evaluate\n",
    "from sklearn.metrics import classification_report\n",
    "print(classification_report(y_train_binary,predictions))"
   ]
  },
  {
   "cell_type": "code",
   "execution_count": 73,
   "metadata": {
    "colab": {
     "base_uri": "https://localhost:8080/",
     "height": 74
    },
    "colab_type": "code",
    "id": "-Fv17Mp3FZeC",
    "outputId": "8ca0f6d1-569a-4cea-cbe9-0196a944e5e4"
   },
   "outputs": [
    {
     "name": "stderr",
     "output_type": "stream",
     "text": [
      "C:\\Users\\nairj\\Anaconda3\\lib\\site-packages\\sklearn\\preprocessing\\label.py:111: DataConversionWarning: A column-vector y was passed when a 1d array was expected. Please change the shape of y to (n_samples, ), for example using ravel().\n",
      "  y = column_or_1d(y, warn=True)\n"
     ]
    }
   ],
   "source": [
    "#Encode ytest\n",
    "lab_enc = preprocessing.LabelEncoder()\n",
    "encoded_test = lab_enc.fit_transform(y_test)"
   ]
  },
  {
   "cell_type": "code",
   "execution_count": 74,
   "metadata": {
    "colab": {
     "base_uri": "https://localhost:8080/",
     "height": 138
    },
    "colab_type": "code",
    "id": "0lb_u-jyd9u1",
    "outputId": "84e96cc9-c77b-4515-e04b-aa5f75069ba0"
   },
   "outputs": [
    {
     "data": {
      "text/html": [
       "<div>\n",
       "<style scoped>\n",
       "    .dataframe tbody tr th:only-of-type {\n",
       "        vertical-align: middle;\n",
       "    }\n",
       "\n",
       "    .dataframe tbody tr th {\n",
       "        vertical-align: top;\n",
       "    }\n",
       "\n",
       "    .dataframe thead th {\n",
       "        text-align: right;\n",
       "    }\n",
       "</style>\n",
       "<table border=\"1\" class=\"dataframe\">\n",
       "  <thead>\n",
       "    <tr style=\"text-align: right;\">\n",
       "      <th></th>\n",
       "      <th>Rating</th>\n",
       "    </tr>\n",
       "  </thead>\n",
       "  <tbody>\n",
       "    <tr>\n",
       "      <th>7693</th>\n",
       "      <td>1</td>\n",
       "    </tr>\n",
       "    <tr>\n",
       "      <th>3053</th>\n",
       "      <td>1</td>\n",
       "    </tr>\n",
       "    <tr>\n",
       "      <th>3387</th>\n",
       "      <td>0</td>\n",
       "    </tr>\n",
       "  </tbody>\n",
       "</table>\n",
       "</div>"
      ],
      "text/plain": [
       "      Rating\n",
       "7693       1\n",
       "3053       1\n",
       "3387       0"
      ]
     },
     "execution_count": 74,
     "metadata": {},
     "output_type": "execute_result"
    }
   ],
   "source": [
    "y_test_binary = (y_test > y_test.median()).astype(np.int)\n",
    "y_test_binary.head(3)"
   ]
  },
  {
   "cell_type": "code",
   "execution_count": 75,
   "metadata": {
    "colab": {
     "base_uri": "https://localhost:8080/",
     "height": 35
    },
    "colab_type": "code",
    "id": "mFcphqGSFZeC",
    "outputId": "bc89f189-1254-4720-9ab8-78cb855a8aa3"
   },
   "outputs": [
    {
     "name": "stdout",
     "output_type": "stream",
     "text": [
      "binary\n"
     ]
    }
   ],
   "source": [
    "print(utils.multiclass.type_of_target(y_test_binary))"
   ]
  },
  {
   "cell_type": "code",
   "execution_count": 76,
   "metadata": {
    "colab": {
     "base_uri": "https://localhost:8080/",
     "height": 183
    },
    "colab_type": "code",
    "id": "Ims0OvRtd9u7",
    "outputId": "e3607ba6-fe25-4213-d66e-428a2f183bed"
   },
   "outputs": [
    {
     "name": "stderr",
     "output_type": "stream",
     "text": [
      "C:\\Users\\nairj\\Anaconda3\\lib\\site-packages\\sklearn\\utils\\validation.py:578: DataConversionWarning: A column-vector y was passed when a 1d array was expected. Please change the shape of y to (n_samples, ), for example using ravel().\n",
      "  y = column_or_1d(y, warn=True)\n"
     ]
    },
    {
     "data": {
      "text/plain": [
       "LogisticRegression(C=1.0, class_weight=None, dual=False, fit_intercept=True,\n",
       "          intercept_scaling=1, max_iter=100, multi_class='ovr', n_jobs=1,\n",
       "          penalty='l2', random_state=None, solver='liblinear', tol=0.0001,\n",
       "          verbose=0, warm_start=False)"
      ]
     },
     "execution_count": 76,
     "metadata": {},
     "output_type": "execute_result"
    }
   ],
   "source": [
    "logmodel = LogisticRegression()\n",
    "logmodel.fit(X_test,y_test_binary)"
   ]
  },
  {
   "cell_type": "code",
   "execution_count": 77,
   "metadata": {
    "colab": {
     "base_uri": "https://localhost:8080/",
     "height": 35
    },
    "colab_type": "code",
    "id": "gidSyMM-d9u-",
    "outputId": "f414aeb6-b10f-4543-d722-14785b4a27c4"
   },
   "outputs": [
    {
     "name": "stdout",
     "output_type": "stream",
     "text": [
      "(2810,) (2810, 1)\n"
     ]
    }
   ],
   "source": [
    "predictions_test = logmodel.predict(X_test)\n",
    "print(predictions_test.shape, y_test_binary.shape)\n"
   ]
  },
  {
   "cell_type": "code",
   "execution_count": 78,
   "metadata": {
    "colab": {
     "base_uri": "https://localhost:8080/",
     "height": 181
    },
    "colab_type": "code",
    "id": "W7S_si8VFZeE",
    "outputId": "01051560-9a09-45c6-f986-90fb93a70f40"
   },
   "outputs": [
    {
     "name": "stdout",
     "output_type": "stream",
     "text": [
      "             precision    recall  f1-score   support\n",
      "\n",
      "          0       0.58      0.94      0.72      1595\n",
      "          1       0.57      0.10      0.16      1215\n",
      "\n",
      "avg / total       0.58      0.58      0.48      2810\n",
      "\n"
     ]
    }
   ],
   "source": [
    "print(classification_report(y_test_binary,predictions_test))"
   ]
  },
  {
   "cell_type": "markdown",
   "metadata": {
    "colab_type": "text",
    "id": "cNBBnDqBd9vD"
   },
   "source": [
    "Test is close to train (a little lower)."
   ]
  },
  {
   "cell_type": "markdown",
   "metadata": {
    "colab_type": "text",
    "id": "0UAhv_rVFZeI"
   },
   "source": [
    "### Decision Trees"
   ]
  },
  {
   "cell_type": "code",
   "execution_count": 79,
   "metadata": {
    "colab": {
     "base_uri": "https://localhost:8080/",
     "height": 774
    },
    "colab_type": "code",
    "id": "32ujy5kZFZeI",
    "outputId": "ebbc80d8-4fb2-4f59-c0ac-dccd5974f63b"
   },
   "outputs": [
    {
     "ename": "InvocationException",
     "evalue": "GraphViz's executables not found",
     "output_type": "error",
     "traceback": [
      "\u001b[1;31m---------------------------------------------------------------------------\u001b[0m",
      "\u001b[1;31mInvocationException\u001b[0m                       Traceback (most recent call last)",
      "\u001b[1;32m<ipython-input-79-855ca3951eb0>\u001b[0m in \u001b[0;36m<module>\u001b[1;34m()\u001b[0m\n\u001b[0;32m     25\u001b[0m )\n\u001b[0;32m     26\u001b[0m \u001b[0mgraph\u001b[0m \u001b[1;33m=\u001b[0m \u001b[0mpydotplus\u001b[0m\u001b[1;33m.\u001b[0m\u001b[0mgraph_from_dot_data\u001b[0m\u001b[1;33m(\u001b[0m\u001b[0mdot_data\u001b[0m\u001b[1;33m)\u001b[0m\u001b[1;33m\u001b[0m\u001b[0m\n\u001b[1;32m---> 27\u001b[1;33m \u001b[0mImage\u001b[0m\u001b[1;33m(\u001b[0m\u001b[0mgraph\u001b[0m\u001b[1;33m.\u001b[0m\u001b[0mcreate_png\u001b[0m\u001b[1;33m(\u001b[0m\u001b[1;33m)\u001b[0m\u001b[1;33m)\u001b[0m\u001b[1;33m\u001b[0m\u001b[0m\n\u001b[0m",
      "\u001b[1;32m~\\Anaconda3\\lib\\site-packages\\pydotplus\\graphviz.py\u001b[0m in \u001b[0;36m<lambda>\u001b[1;34m(f, prog)\u001b[0m\n\u001b[0;32m   1795\u001b[0m             self.__setattr__(\n\u001b[0;32m   1796\u001b[0m                 \u001b[1;34m'create_'\u001b[0m \u001b[1;33m+\u001b[0m \u001b[0mfrmt\u001b[0m\u001b[1;33m,\u001b[0m\u001b[1;33m\u001b[0m\u001b[0m\n\u001b[1;32m-> 1797\u001b[1;33m                 \u001b[1;32mlambda\u001b[0m \u001b[0mf\u001b[0m\u001b[1;33m=\u001b[0m\u001b[0mfrmt\u001b[0m\u001b[1;33m,\u001b[0m \u001b[0mprog\u001b[0m\u001b[1;33m=\u001b[0m\u001b[0mself\u001b[0m\u001b[1;33m.\u001b[0m\u001b[0mprog\u001b[0m\u001b[1;33m:\u001b[0m \u001b[0mself\u001b[0m\u001b[1;33m.\u001b[0m\u001b[0mcreate\u001b[0m\u001b[1;33m(\u001b[0m\u001b[0mformat\u001b[0m\u001b[1;33m=\u001b[0m\u001b[0mf\u001b[0m\u001b[1;33m,\u001b[0m \u001b[0mprog\u001b[0m\u001b[1;33m=\u001b[0m\u001b[0mprog\u001b[0m\u001b[1;33m)\u001b[0m\u001b[1;33m\u001b[0m\u001b[0m\n\u001b[0m\u001b[0;32m   1798\u001b[0m             )\n\u001b[0;32m   1799\u001b[0m             \u001b[0mf\u001b[0m \u001b[1;33m=\u001b[0m \u001b[0mself\u001b[0m\u001b[1;33m.\u001b[0m\u001b[0m__dict__\u001b[0m\u001b[1;33m[\u001b[0m\u001b[1;34m'create_'\u001b[0m \u001b[1;33m+\u001b[0m \u001b[0mfrmt\u001b[0m\u001b[1;33m]\u001b[0m\u001b[1;33m\u001b[0m\u001b[0m\n",
      "\u001b[1;32m~\\Anaconda3\\lib\\site-packages\\pydotplus\\graphviz.py\u001b[0m in \u001b[0;36mcreate\u001b[1;34m(self, prog, format)\u001b[0m\n\u001b[0;32m   1958\u001b[0m             \u001b[1;32mif\u001b[0m \u001b[0mself\u001b[0m\u001b[1;33m.\u001b[0m\u001b[0mprogs\u001b[0m \u001b[1;32mis\u001b[0m \u001b[1;32mNone\u001b[0m\u001b[1;33m:\u001b[0m\u001b[1;33m\u001b[0m\u001b[0m\n\u001b[0;32m   1959\u001b[0m                 raise InvocationException(\n\u001b[1;32m-> 1960\u001b[1;33m                     'GraphViz\\'s executables not found')\n\u001b[0m\u001b[0;32m   1961\u001b[0m \u001b[1;33m\u001b[0m\u001b[0m\n\u001b[0;32m   1962\u001b[0m         \u001b[1;32mif\u001b[0m \u001b[0mprog\u001b[0m \u001b[1;32mnot\u001b[0m \u001b[1;32min\u001b[0m \u001b[0mself\u001b[0m\u001b[1;33m.\u001b[0m\u001b[0mprogs\u001b[0m\u001b[1;33m:\u001b[0m\u001b[1;33m\u001b[0m\u001b[0m\n",
      "\u001b[1;31mInvocationException\u001b[0m: GraphViz's executables not found"
     ]
    }
   ],
   "source": [
    "from sklearn import tree\n",
    "\n",
    "# A convenience for displaying visualizations.\n",
    "from IPython.display import Image\n",
    "\n",
    "# Packages for rendering our tree.\n",
    "import pydotplus\n",
    "import graphviz\n",
    "\n",
    "# Initialize and train our tree.\n",
    "decision_tree = tree.DecisionTreeClassifier(\n",
    "    criterion='entropy',\n",
    "    max_features=1,\n",
    "    max_depth=4,\n",
    "    random_state = 1337\n",
    ")\n",
    "decision_tree.fit(X_train, y_train_binary)\n",
    "\n",
    "# Render our tree.\n",
    "dot_data = tree.export_graphviz(\n",
    "    decision_tree, out_file=None,\n",
    "    feature_names= X_train.columns,\n",
    "    class_names=['High Rating','Low Rating'],\n",
    "    filled=True\n",
    ")\n",
    "graph = pydotplus.graph_from_dot_data(dot_data)\n",
    "Image(graph.create_png())\n"
   ]
  },
  {
   "cell_type": "code",
   "execution_count": null,
   "metadata": {
    "colab": {},
    "colab_type": "code",
    "id": "RhnycwJ3FZeK"
   },
   "outputs": [],
   "source": [
    "predictions_test = decision_tree.predict(X_test)"
   ]
  },
  {
   "cell_type": "code",
   "execution_count": null,
   "metadata": {
    "colab": {},
    "colab_type": "code",
    "id": "ZiFrUrJvFZeL"
   },
   "outputs": [],
   "source": [
    "from sklearn.metrics import classification_report,confusion_matrix"
   ]
  },
  {
   "cell_type": "code",
   "execution_count": null,
   "metadata": {
    "colab": {
     "base_uri": "https://localhost:8080/",
     "height": 181
    },
    "colab_type": "code",
    "id": "BCnfYTHvFZeM",
    "outputId": "f89be8ca-29fb-49f7-dfe0-c644dc1e46e6"
   },
   "outputs": [],
   "source": [
    "print(classification_report(y_test_binary,predictions_test))"
   ]
  },
  {
   "cell_type": "markdown",
   "metadata": {
    "colab_type": "text",
    "id": "jABnW1PHd9vl"
   },
   "source": [
    "Awesome, its performing marginally better!"
   ]
  },
  {
   "cell_type": "markdown",
   "metadata": {
    "colab_type": "text",
    "id": "3novD_lGFZeN"
   },
   "source": [
    "### Random Forest Classifier"
   ]
  },
  {
   "cell_type": "code",
   "execution_count": null,
   "metadata": {
    "colab": {
     "base_uri": "https://localhost:8080/",
     "height": 201
    },
    "colab_type": "code",
    "id": "BmCVCplkFZeO",
    "outputId": "c4cf2985-bf8f-4cc7-e7d1-e81e2800f745"
   },
   "outputs": [],
   "source": [
    "from sklearn.ensemble import RandomForestClassifier\n",
    "rfc = RandomForestClassifier(n_estimators=100)\n",
    "rfc.fit(X_train, y_train_binary)"
   ]
  },
  {
   "cell_type": "code",
   "execution_count": null,
   "metadata": {
    "colab": {},
    "colab_type": "code",
    "id": "1f0A4sQHFZeQ"
   },
   "outputs": [],
   "source": [
    "rfc_pred = rfc.predict(X_test)"
   ]
  },
  {
   "cell_type": "code",
   "execution_count": null,
   "metadata": {
    "colab": {
     "base_uri": "https://localhost:8080/",
     "height": 54
    },
    "colab_type": "code",
    "id": "JZXEKzpgFZeR",
    "outputId": "9e554f51-6795-49ce-ff9d-a4b32b6d4df9"
   },
   "outputs": [],
   "source": [
    "print(confusion_matrix(y_test_binary,rfc_pred))"
   ]
  },
  {
   "cell_type": "code",
   "execution_count": null,
   "metadata": {
    "colab": {
     "base_uri": "https://localhost:8080/",
     "height": 181
    },
    "colab_type": "code",
    "id": "-kFhZm7jnPBs",
    "outputId": "ee54fc0d-9698-4d21-d4de-c472a84f6a02"
   },
   "outputs": [],
   "source": [
    "print(classification_report(y_test_binary, rfc_pred))"
   ]
  },
  {
   "cell_type": "markdown",
   "metadata": {
    "colab_type": "text",
    "id": "_IzUA9obn1PS"
   },
   "source": [
    "The random forest classifier outperforms the other two. We care the most about the f1-score metric which represents the **harmonic mean** of precision and recall. Both precision and recall have to be high for the $f_1$ measure to be high. \n",
    "\n",
    "$$\\textit{precision} = \\frac{TP}{TP + FP}$$\n",
    "\n",
    "\n",
    "$$\\textit{recall} = \\frac{TP}{TP + FN}$$\n",
    "\n",
    "\n",
    "$$f_{1} = \\frac{2 \\times \\textit{precision} \\times{recall}}{\\textit{precision} + {recall}}$$"
   ]
  }
 ],
 "metadata": {
  "colab": {
   "collapsed_sections": [],
   "name": "Supervised Capstone Google Play Store App Arun Nair",
   "provenance": [],
   "version": "0.3.2"
  },
  "kernelspec": {
   "display_name": "Python 3",
   "language": "python",
   "name": "python3"
  },
  "language_info": {
   "codemirror_mode": {
    "name": "ipython",
    "version": 3
   },
   "file_extension": ".py",
   "mimetype": "text/x-python",
   "name": "python",
   "nbconvert_exporter": "python",
   "pygments_lexer": "ipython3",
   "version": "3.7.0"
  },
  "toc": {
   "base_numbering": 1,
   "nav_menu": {},
   "number_sections": true,
   "sideBar": true,
   "skip_h1_title": false,
   "title_cell": "Table of Contents",
   "title_sidebar": "Contents",
   "toc_cell": false,
   "toc_position": {},
   "toc_section_display": true,
   "toc_window_display": false
  }
 },
 "nbformat": 4,
 "nbformat_minor": 1
}
